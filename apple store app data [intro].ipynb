{
 "cells": [
  {
   "cell_type": "markdown",
   "metadata": {},
   "source": [
    "Apple Store Project\n",
    "\n",
    "First project with basic python operations -- Dataquest"
   ]
  },
  {
   "cell_type": "markdown",
   "metadata": {},
   "source": [
    "How to read in a large data set as a list of lists\n",
    "\n",
    "How to use lists and for loops to analyze a large data set"
   ]
  },
  {
   "cell_type": "code",
   "execution_count": 11,
   "metadata": {},
   "outputs": [
    {
     "data": {
      "text/plain": [
       "<_io.TextIOWrapper name='AppleStore.csv' mode='r' encoding='cp1252'>"
      ]
     },
     "execution_count": 11,
     "metadata": {},
     "output_type": "execute_result"
    }
   ],
   "source": [
    "#use this to verify that the encoding is 'utf-8', if not, add another argument to the open function\n",
    "open('AppleStore.csv')"
   ]
  },
  {
   "cell_type": "code",
   "execution_count": 14,
   "metadata": {},
   "outputs": [],
   "source": [
    "from csv import reader\n",
    "opened_file = open('AppleStore.csv', encoding='utf-8')\n",
    "read_file = reader(opened_file)\n",
    "\n",
    "#list is used to transform the file to a list of lists\n",
    "apps_data = list(read_file)"
   ]
  },
  {
   "cell_type": "code",
   "execution_count": 17,
   "metadata": {},
   "outputs": [
    {
     "name": "stdout",
     "output_type": "stream",
     "text": [
      "7198\n",
      "['', 'id', 'track_name', 'size_bytes', 'currency', 'price', 'rating_count_tot', 'rating_count_ver', 'user_rating', 'user_rating_ver', 'ver', 'cont_rating', 'prime_genre', 'sup_devices.num', 'ipadSc_urls.num', 'lang.num', 'vpp_lic']\n",
      "[['1', '281656475', 'PAC-MAN Premium', '100788224', 'USD', '3.99', '21292', '26', '4', '4.5', '6.3.5', '4+', 'Games', '38', '5', '10', '1'], ['2', '281796108', 'Evernote - stay organized', '158578688', 'USD', '0', '161065', '26', '4', '3.5', '8.2.2', '4+', 'Productivity', '37', '5', '23', '1']]\n"
     ]
    }
   ],
   "source": [
    "#to check the number of rows (including header)\n",
    "print(len(apps_data))\n",
    "\n",
    "#to look at the headers if exists\n",
    "print(apps_data[0])\n",
    "\n",
    "#to look at sample data\n",
    "print(apps_data[1:3])"
   ]
  },
  {
   "cell_type": "code",
   "execution_count": 30,
   "metadata": {},
   "outputs": [
    {
     "name": "stdout",
     "output_type": "stream",
     "text": [
      "3.526955675976101\n"
     ]
    }
   ],
   "source": [
    "#to find the average app rating\n",
    "rating_sum = 0\n",
    "for each_row in apps_data[1:]:\n",
    "    #note 'user_rating' is row 8 in apps_data[1:], and its being extracted in each iteration\n",
    "    rating = float(each_row[8])\n",
    "    #add the value rating to the rating sum each iteration\n",
    "    rating_sum = rating_sum + rating\n",
    "avg_rating = rating_sum / len(apps_data[1:])\n",
    "print(avg_rating)"
   ]
  },
  {
   "cell_type": "code",
   "execution_count": 32,
   "metadata": {},
   "outputs": [
    {
     "name": "stdout",
     "output_type": "stream",
     "text": [
      "3.526955675976101\n"
     ]
    }
   ],
   "source": [
    "#another way to find average app rating; using append\n",
    "all_ratings = []\n",
    "for row in apps_data[1:]:\n",
    "    rating = float(row[8])\n",
    "    #adds the value stored in rating to the list all_ratings\n",
    "    all_ratings.append(rating)\n",
    "    \n",
    "avg_rating = sum(all_ratings) / len(all_ratings)\n",
    "print(avg_rating)"
   ]
  },
  {
   "cell_type": "code",
   "execution_count": 35,
   "metadata": {},
   "outputs": [
    {
     "name": "stdout",
     "output_type": "stream",
     "text": [
      "3.3767258382642997\n"
     ]
    }
   ],
   "source": [
    "# to find average rating for free apps\n",
    "free_apps_ratings = []\n",
    "for row in apps_data[1:]:\n",
    "    rating = float(row[8])\n",
    "    price = float(row[5])\n",
    "    \n",
    "    if price == 0.0:\n",
    "        free_apps_ratings.append(rating)\n",
    "\n",
    "avg_rating_free = sum(free_apps_ratings) / len(free_apps_ratings)\n",
    "print(avg_rating_free)"
   ]
  },
  {
   "cell_type": "code",
   "execution_count": 38,
   "metadata": {},
   "outputs": [
    {
     "name": "stdout",
     "output_type": "stream",
     "text": [
      "3.526955675976101\n"
     ]
    }
   ],
   "source": [
    "# to find average ratings for non-games\n",
    "non_games_ratings = []\n",
    "for list in apps_data[1:]:\n",
    "    rating = float(list[8])\n",
    "    genre = list[11]\n",
    "    \n",
    "    if genre != 'Games':\n",
    "        non_games_ratings.append(rating)\n",
    "\n",
    "avg_rating_non_games = sum(non_games_ratings) / len(non_games_ratings)\n",
    "print(avg_rating_non_games)"
   ]
  },
  {
   "cell_type": "code",
   "execution_count": 41,
   "metadata": {},
   "outputs": [
    {
     "name": "stdout",
     "output_type": "stream",
     "text": [
      "3.5285777580859548\n"
     ]
    }
   ],
   "source": [
    "# to find average ratings for free games\n",
    "free_games_ratings = []\n",
    "for row in apps_data[1:]:\n",
    "    rating = float(row[8])\n",
    "    price = float(row[5])\n",
    "    genre = row[12]\n",
    "   \n",
    "    if price == 0.0 and genre == 'Games':\n",
    "        free_games_ratings.append(rating)\n",
    "\n",
    "avg_rating_free_games = sum(free_games_ratings) / len(free_games_ratings)\n",
    "print(avg_rating_free_games)"
   ]
  },
  {
   "cell_type": "code",
   "execution_count": 42,
   "metadata": {},
   "outputs": [
    {
     "name": "stdout",
     "output_type": "stream",
     "text": [
      "3.496875\n",
      "3.8904235727440146\n"
     ]
    }
   ],
   "source": [
    "# to find average of free apps whose genre is either Social Networking or Games\n",
    "free_games_social_ratings = []\n",
    "for row in apps_data[1:]:\n",
    "    rating = float(row[8])\n",
    "    genre = row[12]\n",
    "    price = float(row[5])\n",
    "    \n",
    "    if (genre == 'Social Networking' or genre == 'Games') and price == 0:\n",
    "        free_games_social_ratings.append(rating)\n",
    "        \n",
    "avg_free = sum(free_games_social_ratings) / len(free_games_social_ratings)\n",
    "print(avg_free)\n",
    "\n",
    "# Non-free apps (average) whose genre is either Social Networking or Games\n",
    "non_free_games_social_ratings = []\n",
    "for row in apps_data[1:]:\n",
    "    rating = float(row[8])\n",
    "    genre = row[12]\n",
    "    price = float(row[5])\n",
    "    \n",
    "    if (genre == 'Social Networking' or genre == 'Games') and price != 0:\n",
    "        non_free_games_social_ratings.append(rating)\n",
    " \n",
    "avg_non_free = sum(non_free_games_social_ratings) / len(non_free_games_social_ratings)\n",
    "print(avg_non_free)"
   ]
  },
  {
   "cell_type": "code",
   "execution_count": 45,
   "metadata": {},
   "outputs": [
    {
     "name": "stdout",
     "output_type": "stream",
     "text": [
      "[['', 'id', 'track_name', 'size_bytes', 'currency', 'price', 'rating_count_tot', 'rating_count_ver', 'user_rating', 'user_rating_ver', 'ver', 'cont_rating', 'prime_genre', 'sup_devices.num', 'ipadSc_urls.num', 'lang.num', 'vpp_lic', 'price_label', 'price_label'], ['1', '281656475', 'PAC-MAN Premium', '100788224', 'USD', '3.99', '21292', '26', '4', '4.5', '6.3.5', '4+', 'Games', '38', '5', '10', '1', 'affordable', 'affordable'], ['2', '281796108', 'Evernote - stay organized', '158578688', 'USD', '0', '161065', '26', '4', '3.5', '8.2.2', '4+', 'Productivity', '37', '5', '23', '1', 'free', 'free'], ['3', '281940292', 'WeatherBug - Local Weather, Radar, Maps, Alerts', '100524032', 'USD', '0', '188583', '2822', '3.5', '4.5', '5.0.0', '4+', 'Weather', '37', '5', '3', '1', 'free', 'free'], ['4', '282614216', 'eBay: Best App to Buy, Sell, Save! Online Shopping', '128512000', 'USD', '0', '262241', '649', '4', '4.5', '5.10.0', '12+', 'Shopping', '37', '5', '9', '1', 'free', 'free'], ['5', '282935706', 'Bible', '92774400', 'USD', '0', '985920', '5320', '4.5', '5', '7.5.1', '4+', 'Reference', '37', '5', '45', '1', 'free', 'free']]\n"
     ]
    }
   ],
   "source": [
    "# add a column 'price label' and label each app with a naming convention\n",
    "\n",
    "for app in apps_data[1:]:\n",
    "    price = float(app[5])\n",
    "    # Complete code from here\n",
    "    if price == 0:\n",
    "        app.append('free')\n",
    "    elif price > 0 and price < 20:\n",
    "        app.append('affordable')\n",
    "    elif price >=20 and price < 50:\n",
    "        app.append('expensive')\n",
    "    elif price >= 50:\n",
    "        app.append('very expensive')\n",
    "\n",
    "apps_data[0].append('price_label')\n",
    "print(apps_data[:6])"
   ]
  },
  {
   "cell_type": "code",
   "execution_count": 54,
   "metadata": {},
   "outputs": [
    {
     "name": "stdout",
     "output_type": "stream",
     "text": [
      "{'4+': 4433, '12+': 1155, '17+': 622, '9+': 987}\n"
     ]
    }
   ],
   "source": [
    "# frequency tables\n",
    "# to check how often each content rating appears in the list\n",
    "\n",
    "#intialize\n",
    "content_ratings = {}\n",
    "for row in apps_data[1:]:\n",
    "    c_rating = row[11]\n",
    "    if c_rating in content_ratings:\n",
    "        content_ratings[c_rating] += 1\n",
    "    else:\n",
    "        #checks to see if exists in the empty dictionary, since it doesnt, it'll create a value of 1 and count itself\n",
    "        content_ratings[c_rating] = 1\n",
    "    \n",
    "\n",
    "print(content_ratings)"
   ]
  },
  {
   "cell_type": "code",
   "execution_count": 55,
   "metadata": {},
   "outputs": [],
   "source": [
    "# finding proportions and frequencies\n",
    "\n",
    "content_ratings = {'4+': 4433, '12+': 1155, '9+': 987, '17+': 622}\n",
    "total_number_of_apps = 7197\n",
    "\n",
    "for iteration in content_ratings:\n",
    "    content_ratings[iteration] /= total_number_of_apps\n",
    "    content_ratings[iteration] *= 100\n",
    "    "
   ]
  },
  {
   "cell_type": "code",
   "execution_count": 62,
   "metadata": {},
   "outputs": [
    {
     "name": "stdout",
     "output_type": "stream",
     "text": [
      "{'4+': 0.6159510907322495}\n",
      "{'4+': 0.6159510907322495, '12+': 0.16048353480616923}\n",
      "{'4+': 0.6159510907322495, '12+': 0.16048353480616923, '9+': 0.13714047519799916}\n",
      "{'4+': 0.6159510907322495, '12+': 0.16048353480616923, '9+': 0.13714047519799916, '17+': 0.08642489926358204}\n",
      "{'4+': 0.6159510907322495, '12+': 0.16048353480616923, '9+': 0.13714047519799916, '17+': 0.08642489926358204}\n",
      "{'4+': 61.595109073224954, '12+': 16.04835348061692, '9+': 13.714047519799916, '17+': 8.642489926358204}\n"
     ]
    }
   ],
   "source": [
    "# finding proportions and frequencies separate\n",
    "\n",
    "content_ratings = {'4+': 4433, '12+': 1155, '9+': 987, '17+': 622}\n",
    "total_number_of_apps = 7197\n",
    "c_ratings_proportions = {}\n",
    "for key in content_ratings:\n",
    "    proportion = content_ratings[key] / total_number_of_apps\n",
    "    # populating the dictionary within the loop\n",
    "    c_ratings_proportions[key] = proportion\n",
    "    print(c_ratings_proportions)\n",
    "print(c_ratings_proportions)\n",
    "\n",
    "c_ratings_percentages = {}\n",
    "for key in c_ratings_proportions:\n",
    "    percentage = c_ratings_proportions[key] * 100\n",
    "    c_ratings_percentages[key] = percentage\n",
    "print(c_ratings_percentages)"
   ]
  },
  {
   "cell_type": "code",
   "execution_count": 70,
   "metadata": {},
   "outputs": [
    {
     "name": "stdout",
     "output_type": "stream",
     "text": [
      "2974676\n",
      "0\n",
      "{'0 - 10000': 6181, '10000 - 100000': 798, '100000 - 500000': 196, '500000 - 1000000': 16, '1000000+': 6}\n"
     ]
    }
   ],
   "source": [
    "# find how many user ratings in intervals\n",
    "\n",
    "# first find min and max to decide how large intervals should be\n",
    "n_user_ratings = []\n",
    "for row in apps_data[1:]:\n",
    "    n_user_ratings.append(int(row[6]))\n",
    "    \n",
    "ratings_max = max(n_user_ratings)\n",
    "ratings_min = min(n_user_ratings)\n",
    "print(ratings_max)\n",
    "print(ratings_min)\n",
    "\n",
    "# create a dictionary\n",
    "user_ratings_freq = {'0 - 10000': 0, '10000 - 100000': 0, '100000 - 500000': 0,\n",
    "                    '500000 - 1000000': 0, '1000000+': 0}\n",
    "\n",
    "for row in apps_data[1:]:\n",
    "    user_ratings = int(row[6])\n",
    "    \n",
    "    if user_ratings <= 10000:\n",
    "        user_ratings_freq['0 - 10000'] += 1\n",
    "        \n",
    "    elif 10000 < user_ratings <= 100000:\n",
    "        user_ratings_freq['10000 - 100000'] += 1\n",
    "        \n",
    "    elif 100000 < user_ratings <= 500000:\n",
    "        user_ratings_freq['100000 - 500000'] += 1\n",
    "        \n",
    "    elif 500000 < user_ratings <= 1000000:\n",
    "        user_ratings_freq['500000 - 1000000'] += 1\n",
    "        \n",
    "    elif 10000 < user_ratings > 1000000:\n",
    "        user_ratings_freq['1000000+'] += 1\n",
    "\n",
    "\n",
    "print(user_ratings_freq)"
   ]
  },
  {
   "cell_type": "code",
   "execution_count": 72,
   "metadata": {},
   "outputs": [
    {
     "name": "stdout",
     "output_type": "stream",
     "text": [
      "['Games', 'Productivity', 'Weather', 'Shopping', 'Reference', 'Games', 'Finance', 'Music', 'Utilities', 'Games', 'Games', 'Games', 'Utilities', 'Finance', 'Games', 'Travel', 'Social Networking', 'Travel', 'Music', 'Games', 'Reference', 'Games', 'Sports', 'Business', 'Music', 'Health & Fitness', 'Games', 'Productivity', 'Music', 'Weather', 'Social Networking', 'Health & Fitness', 'Entertainment', 'Games', 'Health & Fitness', 'Music', 'Entertainment', 'Utilities', 'Weather', 'Games', 'Photo & Video', 'Music', 'Navigation', 'Music', 'Navigation', 'Travel', 'Entertainment', 'Games', 'Sports', 'Games', 'Weather', 'Business', 'Education', 'Weather', 'Lifestyle', 'Lifestyle', 'Food & Drink', 'Entertainment', 'Education', 'Health & Fitness', 'Shopping', 'Games', 'Shopping', 'Games', 'Utilities', 'Music', 'Music', 'Finance', 'Reference', 'Food & Drink', 'News', 'Navigation', 'Weather', 'Finance', 'News', 'Utilities', 'Education', 'Utilities', 'Entertainment', 'Health & Fitness', 'Finance', 'Games', 'Book', 'Games', 'Finance', 'Games', 'Games', 'Music', 'Games', 'Photo & Video', 'Games', 'Social Networking', 'Social Networking', 'Photo & Video', 'Social Networking', 'Games', 'Finance', 'Weather', 'Health & Fitness', 'Health & Fitness', 'News', 'Games', 'Games', 'Games', 'Sports', 'Health & Fitness', 'Photo & Video', 'Entertainment', 'Games', 'Games', 'Utilities', 'Entertainment', 'Entertainment', 'Utilities', 'Games', 'Education', 'Reference', 'News', 'Sports', 'Utilities', 'Entertainment', 'Photo & Video', 'Games', 'Business', 'Games', 'Social Networking', 'Productivity', 'Lifestyle', 'Games', 'Games', 'Finance', 'Music', 'Productivity', 'Games', 'Productivity', 'Travel', 'Finance', 'Entertainment', 'Games', 'Games', 'Games', 'Music', 'Social Networking', 'Weather', 'Shopping', 'Games', 'Games', 'Games', 'Games', 'News', 'Sports', 'Travel', 'Games', 'Games', 'Education', 'Games', 'Sports', 'Sports', 'Music', 'News', 'Social Networking', 'Shopping', 'Navigation', 'Games', 'Finance', 'Finance', 'Health & Fitness', 'Photo & Video', 'Food & Drink', 'Games', 'Games', 'Games', 'Weather', 'Games', 'Navigation', 'Games', 'Games', 'Sports', 'Music', 'Food & Drink', 'Sports', 'News', 'Weather', 'Games', 'Productivity', 'Health & Fitness', 'Utilities', 'Medical', 'Photo & Video', 'Entertainment', 'Games', 'Weather', 'Entertainment', 'Sports', 'Productivity', 'Entertainment', 'Games', 'Sports', 'Navigation', 'Finance', 'Navigation', 'Photo & Video', 'Games', 'Games', 'Games', 'Health & Fitness', 'Photo & Video', 'Food & Drink', 'Games', 'Food & Drink', 'Sports', 'Games', 'Health & Fitness', 'News', 'Shopping', 'Entertainment', 'Games', 'Lifestyle', 'News', 'Lifestyle', 'Business', 'News', 'Travel', 'News', 'Entertainment', 'Entertainment', 'Reference', 'Games', 'Business', 'Shopping', 'Games', 'Lifestyle', 'Sports', 'Entertainment', 'Health & Fitness', 'Shopping', 'Entertainment', 'Games', 'Music', 'Social Networking', 'Navigation', 'Health & Fitness', 'Productivity', 'Education', 'Games', 'Shopping', 'Games', 'News', 'Music', 'Games', 'Games', 'Games', 'Sports', 'Games', 'Games', 'Shopping', 'Business', 'Shopping', 'Entertainment', 'Photo & Video', 'Entertainment', 'Food & Drink', 'Games', 'Shopping', 'Shopping', 'Health & Fitness', 'Travel', 'Productivity', 'News', 'Photo & Video', 'Music', 'Business', 'Health & Fitness', 'Games', 'Entertainment', 'Games', 'Travel', 'Lifestyle', 'Travel', 'Games', 'Navigation', 'Games', 'Travel', 'Games', 'Education', 'Finance', 'Games', 'Entertainment', 'Entertainment', 'Games', 'Travel', 'Health & Fitness', 'Games', 'Health & Fitness', 'Business', 'Entertainment', 'Photo & Video', 'News', 'Lifestyle', 'Games', 'Social Networking', 'Book', 'Games', 'Social Networking', 'Lifestyle', 'Entertainment', 'Social Networking', 'Games', 'Finance', 'Games', 'Education', 'Productivity', 'Utilities', 'Health & Fitness', 'Health & Fitness', 'News', 'Games', 'Shopping', 'Education', 'Entertainment', 'Lifestyle', 'Games', 'Sports', 'Games', 'Games', 'Photo & Video', 'Games', 'Games', 'Games', 'Music', 'Travel', 'Education', 'Education', 'Shopping', 'Social Networking', 'Photo & Video', 'Travel', 'Entertainment', 'Photo & Video', 'Music', 'Entertainment', 'Entertainment', 'Sports', 'Games', 'Productivity', 'Games', 'Education', 'Finance', 'Games', 'Entertainment', 'Games', 'Games', 'Productivity', 'Navigation', 'Photo & Video', 'Weather', 'Education', 'Games', 'Entertainment', 'Music', 'Utilities', 'Productivity', 'Photo & Video', 'Games', 'Games', 'Social Networking', 'Entertainment', 'Games', 'Games', 'Weather', 'Entertainment', 'Productivity', 'Business', 'Reference', 'Utilities', 'Reference', 'Education', 'Games', 'Productivity', 'Reference', 'Photo & Video', 'Entertainment', 'Navigation', 'Photo & Video', 'Games', 'Entertainment', 'Health & Fitness', 'Book', 'Travel', 'Games', 'Entertainment', 'News', 'Travel', 'Utilities', 'Travel', 'Productivity', 'Book', 'Weather', 'Entertainment', 'Business', 'Health & Fitness', 'Games', 'Social Networking', 'Utilities', 'Games', 'Sports', 'Finance', 'Productivity', 'Utilities', 'Education', 'Games', 'Social Networking', 'Social Networking', 'Health & Fitness', 'Games', 'Entertainment', 'Photo & Video', 'Games', 'Finance', 'Education', 'Weather', 'Education', 'Games', 'Games', 'News', 'Productivity', 'Productivity', 'Photo & Video', 'Games', 'Social Networking', 'Games', 'Shopping', 'Education', 'Weather', 'Finance', 'Games', 'Games', 'Education', 'Sports', 'Entertainment', 'Education', 'Navigation', 'Photo & Video', 'Lifestyle', 'Games', 'Games', 'Navigation', 'Photo & Video', 'Games', 'Education', 'Entertainment', 'Games', 'Education', 'Games', 'Travel', 'Book', 'Utilities', 'Games', 'Entertainment', 'Entertainment', 'Utilities', 'Utilities', 'Music', 'Lifestyle', 'Shopping', 'Productivity', 'Education', 'Utilities', 'Games', 'Lifestyle', 'Sports', 'Business', 'Health & Fitness', 'Utilities', 'Shopping', 'Business', 'Shopping', 'Social Networking', 'Games', 'Shopping', 'Entertainment', 'Music', 'Games', 'Social Networking', 'Photo & Video', 'Entertainment', 'Games', 'Lifestyle', 'Reference', 'Lifestyle', 'Business', 'Social Networking', 'Games', 'Games', 'News', 'Lifestyle', 'Utilities', 'Education', 'Games', 'Shopping', 'Games', 'Games', 'Entertainment', 'Reference', 'Health & Fitness', 'Games', 'Travel', 'Utilities', 'Productivity', 'Medical', 'Utilities', 'Lifestyle', 'Games', 'Education', 'Utilities', 'Entertainment', 'Social Networking', 'Sports', 'Education', 'Photo & Video', 'Productivity', 'Games', 'Games', 'Games', 'Entertainment', 'Entertainment', 'Games', 'Navigation', 'Entertainment', 'Utilities', 'Games', 'Medical', 'Finance', 'Games', 'Sports', 'Productivity', 'Book', 'Games', 'Food & Drink', 'Photo & Video', 'Games', 'Business', 'Social Networking', 'Finance', 'Games', 'Shopping', 'Productivity', 'Shopping', 'Reference', 'Entertainment', 'Education', 'Games', 'Entertainment', 'Social Networking', 'Games', 'Health & Fitness', 'Travel', 'Weather', 'Shopping', 'Games', 'Entertainment', 'Entertainment', 'Entertainment', 'Games', 'Utilities', 'Games', 'Education', 'Games', 'Games', 'News', 'Games', 'Shopping', 'Games', 'Games', 'Utilities', 'Social Networking', 'Games', 'Games', 'Health & Fitness', 'Finance', 'Lifestyle', 'Games', 'Games', 'Weather', 'Games', 'Lifestyle', 'News', 'Reference', 'Finance', 'Education', 'Games', 'Music', 'Games', 'Utilities', 'Games', 'Travel', 'Productivity', 'News', 'Travel', 'Business', 'Utilities', 'Games', 'Reference', 'Entertainment', 'Weather', 'Games', 'Social Networking', 'Games', 'Games', 'Games', 'Health & Fitness', 'Games', 'Shopping', 'Games', 'Entertainment', 'Education', 'Music', 'Social Networking', 'Games', 'Entertainment', 'Games', 'Entertainment', 'Utilities', 'Photo & Video', 'Travel', 'Food & Drink', 'Finance', 'Utilities', 'Finance', 'Travel', 'Games', 'Education', 'Entertainment', 'Games', 'Entertainment', 'Games', 'Games', 'News', 'Food & Drink', 'Photo & Video', 'Finance', 'Health & Fitness', 'Entertainment', 'Health & Fitness', 'Photo & Video', 'Navigation', 'Games', 'Entertainment', 'Health & Fitness', 'Weather', 'Games', 'Education', 'Games', 'Health & Fitness', 'Productivity', 'Entertainment', 'Utilities', 'Games', 'Reference', 'Reference', 'Education', 'Photo & Video', 'Sports', 'Sports', 'Entertainment', 'Entertainment', 'Sports', 'News', 'Games', 'Navigation', 'Weather', 'Productivity', 'Food & Drink', 'Education', 'Lifestyle', 'Photo & Video', 'Finance', 'Shopping', 'Entertainment', 'Social Networking', 'Music', 'Reference', 'News', 'Games', 'Games', 'Games', 'Utilities', 'Lifestyle', 'Lifestyle', 'Photo & Video', 'Utilities', 'Photo & Video', 'Entertainment', 'Utilities', 'Health & Fitness', 'Shopping', 'Productivity', 'Entertainment', 'Games', 'Weather', 'Sports', 'Music', 'Lifestyle', 'Utilities', 'Education', 'Food & Drink', 'Utilities', 'Games', 'Games', 'Games', 'Lifestyle', 'Games', 'Sports', 'Music', 'Entertainment', 'News', 'Games', 'Entertainment', 'Entertainment', 'Games', 'Productivity', 'Photo & Video', 'Lifestyle', 'Games', 'Sports', 'Reference', 'Productivity', 'Finance', 'Games', 'Games', 'Lifestyle', 'Games', 'Games', 'Shopping', 'News', 'Games', 'Entertainment', 'News', 'Photo & Video', 'Games', 'Utilities', 'Utilities', 'Games', 'Education', 'Shopping', 'Games', 'Games', 'Games', 'Shopping', 'Travel', 'Travel', 'Social Networking', 'Social Networking', 'Games', 'Sports', 'Social Networking', 'Entertainment', 'Entertainment', 'Utilities', 'Games', 'Music', 'Entertainment', 'Utilities', 'Productivity', 'Productivity', 'Book', 'Games', 'Photo & Video', 'Games', 'Shopping', 'Utilities', 'Social Networking', 'Games', 'Education', 'Navigation', 'Games', 'Games', 'Social Networking', 'Reference', 'Sports', 'Games', 'Games', 'Reference', 'Lifestyle', 'Games', 'Music', 'Social Networking', 'Photo & Video', 'Finance', 'Games', 'Games', 'Games', 'Games', 'Photo & Video', 'Games', 'Weather', 'Shopping', 'Education', 'Travel', 'Utilities', 'Education', 'Education', 'Productivity', 'Education', 'Travel', 'Education', 'Photo & Video', 'Photo & Video', 'Games', 'Education', 'Food & Drink', 'Games', 'Photo & Video', 'Shopping', 'News', 'Entertainment', 'Photo & Video', 'Business', 'Games', 'Entertainment', 'Productivity', 'Shopping', 'Business', 'Photo & Video', 'Games', 'Entertainment', 'Utilities', 'Health & Fitness', 'Games', 'Games', 'Games', 'Utilities', 'Food & Drink', 'Photo & Video', 'Entertainment', 'Utilities', 'Photo & Video', 'Education', 'Social Networking', 'Education', 'Games', 'Education', 'Entertainment', 'Reference', 'Education', 'Photo & Video', 'Productivity', 'Games', 'Health & Fitness', 'Social Networking', 'Travel', 'Utilities', 'Weather', 'Book', 'Business', 'Lifestyle', 'Games', 'Social Networking', 'Entertainment', 'Finance', 'Social Networking', 'Entertainment', 'Shopping', 'Games', 'Finance', 'Productivity', 'Medical', 'Games', 'Games', 'Games', 'Navigation', 'Games', 'Photo & Video', 'Travel', 'Business', 'Entertainment', 'Games', 'Games', 'Productivity', 'Games', 'Photo & Video', 'Utilities', 'Social Networking', 'Health & Fitness', 'Photo & Video', 'Games', 'Travel', 'Reference', 'Games', 'Music', 'Entertainment', 'Health & Fitness', 'Games', 'Games', 'News', 'Entertainment', 'Shopping', 'Navigation', 'Photo & Video', 'Games', 'Travel', 'Health & Fitness', 'Utilities', 'Reference', 'Health & Fitness', 'Entertainment', 'Travel', 'Social Networking', 'Food & Drink', 'Utilities', 'Games', 'Games', 'Games', 'Social Networking', 'Games', 'Games', 'Games', 'Entertainment', 'Games', 'Business', 'Games', 'Games', 'Entertainment', 'Games', 'Education', 'Games', 'Photo & Video', 'Reference', 'Games', 'Shopping', 'Weather', 'Social Networking', 'Entertainment', 'Education', 'Entertainment', 'Games', 'Shopping', 'Games', 'Games', 'Music', 'Games', 'Entertainment', 'Entertainment', 'Games', 'Games', 'Music', 'Games', 'Productivity', 'Navigation', 'Utilities', 'Education', 'Photo & Video', 'Games', 'Health & Fitness', 'Entertainment', 'Entertainment', 'Travel', 'Education', 'Photo & Video', 'Navigation', 'Lifestyle', 'Games', 'Education', 'News', 'Education', 'Photo & Video', 'Sports', 'Health & Fitness', 'Games', 'Food & Drink', 'Games', 'Games', 'Lifestyle', 'Education', 'Games', 'Shopping', 'Music', 'Weather', 'Business', 'News', 'Health & Fitness', 'Games', 'Games', 'News', 'Shopping', 'Finance', 'Productivity', 'Business', 'Travel', 'Games', 'Games', 'Games', 'Education', 'Education', 'Games', 'Finance', 'Games', 'Shopping', 'Photo & Video', 'Games', 'Games', 'Social Networking', 'Music', 'Games', 'Sports', 'Shopping', 'Games', 'Games', 'Games', 'Utilities', 'Games', 'Utilities', 'Games', 'Health & Fitness', 'Games', 'Book', 'Games', 'Education', 'Finance', 'Sports', 'Games', 'Weather', 'Health & Fitness', 'Reference', 'Music', 'Travel', 'Lifestyle', 'Photo & Video', 'Games', 'Book', 'Education', 'Education', 'Utilities', 'Social Networking', 'Education', 'Shopping', 'Productivity', 'Education', 'Games', 'Games', 'Social Networking', 'Reference', 'Sports', 'Games', 'Food & Drink', 'Education', 'Health & Fitness', 'Entertainment', 'Utilities', 'Games', 'Education', 'Games', 'Games', 'Photo & Video', 'Games', 'Games', 'Utilities', 'Games', 'Games', 'Lifestyle', 'Productivity', 'Productivity', 'Education', 'Games', 'Weather', 'Games', 'Education', 'Games', 'Education', 'Photo & Video', 'Education', 'Navigation', 'Weather', 'Photo & Video', 'Entertainment', 'Games', 'Weather', 'Games', 'Entertainment', 'Photo & Video', 'Education', 'Photo & Video', 'Games', 'Book', 'Games', 'Music', 'Education', 'Education', 'Utilities', 'Games', 'Health & Fitness', 'Entertainment', 'Games', 'Games', 'Reference', 'Weather', 'Entertainment', 'Entertainment', 'Finance', 'Utilities', 'Health & Fitness', 'Games', 'Shopping', 'Games', 'Games', 'Utilities', 'Utilities', 'Education', 'Games', 'Entertainment', 'Book', 'Games', 'Entertainment', 'Shopping', 'Games', 'Food & Drink', 'Lifestyle', 'Reference', 'Entertainment', 'Games', 'Photo & Video', 'Lifestyle', 'Games', 'Games', 'Games', 'Education', 'Education', 'Photo & Video', 'Sports', 'Games', 'Utilities', 'Games', 'Travel', 'Entertainment', 'Games', 'Education', 'Education', 'Productivity', 'Games', 'Utilities', 'Games', 'Photo & Video', 'Productivity', 'Health & Fitness', 'Music', 'Games', 'Sports', 'Games', 'Health & Fitness', 'Games', 'Games', 'Utilities', 'Games', 'Social Networking', 'Education', 'Health & Fitness', 'Weather', 'Games', 'Education', 'Education', 'Games', 'Entertainment', 'Games', 'Games', 'Games', 'Weather', 'Games', 'Games', 'Music', 'Games', 'Sports', 'Games', 'Games', 'Business', 'Games', 'Utilities', 'Games', 'Games', 'Education', 'Entertainment', 'Games', 'Games', 'Games', 'Games', 'Music', 'Games', 'Games', 'Music', 'Food & Drink', 'Entertainment', 'Business', 'Games', 'Games', 'Medical', 'Lifestyle', 'Education', 'Travel', 'Entertainment', 'Utilities', 'Lifestyle', 'Games', 'Entertainment', 'News', 'Navigation', 'Health & Fitness', 'Entertainment', 'Entertainment', 'Health & Fitness', 'Social Networking', 'Travel', 'Finance', 'Entertainment', 'Book', 'Productivity', 'Games', 'Social Networking', 'Entertainment', 'Entertainment', 'Games', 'Food & Drink', 'Entertainment', 'Food & Drink', 'Productivity', 'Games', 'Productivity', 'Games', 'Games', 'Health & Fitness', 'Photo & Video', 'Music', 'Medical', 'Education', 'Education', 'Games', 'Games', 'Finance', 'Music', 'Shopping', 'Games', 'Games', 'Games', 'Education', 'Games', 'Lifestyle', 'Food & Drink', 'Photo & Video', 'Games', 'Entertainment', 'Utilities', 'Games', 'Productivity', 'Games', 'Photo & Video', 'Games', 'Finance', 'Games', 'Entertainment', 'Games', 'Education', 'Games', 'Photo & Video', 'Reference', 'Games', 'Entertainment', 'Games', 'Games', 'Weather', 'Productivity', 'Photo & Video', 'Lifestyle', 'Games', 'Games', 'Games', 'Photo & Video', 'Photo & Video', 'Photo & Video', 'Shopping', 'Shopping', 'Shopping', 'News', 'Productivity', 'Food & Drink', 'Utilities', 'Medical', 'Games', 'Games', 'Finance', 'Finance', 'Games', 'Games', 'Shopping', 'Food & Drink', 'Games', 'Education', 'Education', 'Games', 'Photo & Video', 'Productivity', 'Games', 'Games', 'Games', 'Productivity', 'Education', 'Productivity', 'Education', 'Health & Fitness', 'Utilities', 'Shopping', 'Photo & Video', 'Education', 'Music', 'Games', 'Games', 'Utilities', 'Games', 'Photo & Video', 'Games', 'Games', 'Education', 'Music', 'Shopping', 'Utilities', 'Games', 'Games', 'Entertainment', 'Entertainment', 'Entertainment', 'Games', 'Photo & Video', 'Weather', 'Weather', 'Business', 'Games', 'Health & Fitness', 'Games', 'Photo & Video', 'Weather', 'Productivity', 'Navigation', 'Games', 'Games', 'News', 'Games', 'Games', 'Travel', 'Medical', 'Games', 'Entertainment', 'Games', 'Health & Fitness', 'Entertainment', 'Entertainment', 'Entertainment', 'Games', 'Entertainment', 'Finance', 'Games', 'Shopping', 'Education', 'Photo & Video', 'Photo & Video', 'Games', 'Entertainment', 'Social Networking', 'Sports', 'Games', 'Games', 'Games', 'Lifestyle', 'Games', 'Games', 'Games', 'Games', 'Games', 'Photo & Video', 'Health & Fitness', 'Games', 'Photo & Video', 'Games', 'Games', 'Education', 'Lifestyle', 'Sports', 'Photo & Video', 'Sports', 'Entertainment', 'Games', 'Music', 'Games', 'Games', 'Health & Fitness', 'Health & Fitness', 'Book', 'Photo & Video', 'Utilities', 'Games', 'Health & Fitness', 'Games', 'Education', 'Photo & Video', 'Games', 'Games', 'Education', 'Games', 'Games', 'Games', 'Education', 'Games', 'Entertainment', 'Education', 'Games', 'Social Networking', 'Sports', 'Lifestyle', 'Weather', 'Business', 'Games', 'Games', 'Games', 'Games', 'News', 'Games', 'Games', 'Sports', 'Games', 'Productivity', 'Travel', 'Games', 'Photo & Video', 'Games', 'Photo & Video', 'Productivity', 'Games', 'Photo & Video', 'Entertainment', 'Shopping', 'Music', 'Music', 'Education', 'Games', 'Games', 'Entertainment', 'Photo & Video', 'Weather', 'Book', 'Weather', 'Education', 'Education', 'Education', 'Games', 'Education', 'Games', 'Education', 'Photo & Video', 'Games', 'Games', 'Games', 'Games', 'Music', 'Productivity', 'Games', 'Games', 'Lifestyle', 'Shopping', 'Utilities', 'Games', 'Education', 'Utilities', 'Games', 'Shopping', 'Games', 'Finance', 'Education', 'Games', 'Entertainment', 'Sports', 'Photo & Video', 'Games', 'Games', 'Education', 'Games', 'Food & Drink', 'Entertainment', 'Education', 'Games', 'Social Networking', 'Finance', 'Book', 'Education', 'Sports', 'Education', 'Navigation', 'Photo & Video', 'Games', 'Entertainment', 'Games', 'Photo & Video', 'Social Networking', 'Education', 'Games', 'Travel', 'Games', 'Games', 'Productivity', 'Entertainment', 'Games', 'Games', 'Games', 'Games', 'Sports', 'Utilities', 'Travel', 'Games', 'Games', 'Games', 'Shopping', 'Games', 'Games', 'Education', 'Business', 'Games', 'Games', 'Productivity', 'Education', 'Games', 'Games', 'Shopping', 'Entertainment', 'Utilities', 'Shopping', 'Games', 'Games', 'Business', 'Games', 'Social Networking', 'Utilities', 'Shopping', 'Games', 'Sports', 'Games', 'Productivity', 'Games', 'Photo & Video', 'Games', 'Games', 'Productivity', 'Entertainment', 'Games', 'Navigation', 'Social Networking', 'Games', 'Games', 'Sports', 'Education', 'Music', 'Games', 'Games', 'Shopping', 'Travel', 'Games', 'Games', 'Finance', 'Finance', 'Travel', 'Travel', 'Games', 'Education', 'News', 'Utilities', 'Lifestyle', 'Education', 'Games', 'Social Networking', 'Games', 'Games', 'News', 'Utilities', 'Travel', 'Health & Fitness', 'Entertainment', 'Reference', 'Entertainment', 'Games', 'Education', 'Education', 'Entertainment', 'Utilities', 'Games', 'Health & Fitness', 'Games', 'Sports', 'Utilities', 'Entertainment', 'Entertainment', 'Social Networking', 'Games', 'Education', 'Education', 'Photo & Video', 'Finance', 'Health & Fitness', 'Health & Fitness', 'Games', 'Social Networking', 'Games', 'Sports', 'Education', 'Entertainment', 'Games', 'Health & Fitness', 'Games', 'Games', 'Sports', 'Games', 'Games', 'Games', 'Photo & Video', 'Education', 'Games', 'Sports', 'Games', 'Entertainment', 'Health & Fitness', 'Games', 'Games', 'Games', 'Games', 'Games', 'Games', 'Social Networking', 'Games', 'Games', 'Games', 'Games', 'Games', 'Games', 'Education', 'Business', 'Games', 'Reference', 'Photo & Video', 'Games', 'Games', 'Games', 'Education', 'Shopping', 'Photo & Video', 'Business', 'Productivity', 'Social Networking', 'Travel', 'Games', 'Games', 'Games', 'Social Networking', 'Productivity', 'Finance', 'News', 'Health & Fitness', 'Social Networking', 'Utilities', 'Games', 'Games', 'Games', 'Games', 'Travel', 'Games', 'Games', 'Shopping', 'Games', 'Education', 'Entertainment', 'Games', 'Entertainment', 'News', 'Photo & Video', 'Games', 'Health & Fitness', 'Entertainment', 'Productivity', 'Travel', 'Games', 'Games', 'Education', 'Entertainment', 'Health & Fitness', 'Book', 'Utilities', 'Music', 'Productivity', 'Entertainment', 'Music', 'Games', 'Navigation', 'Games', 'Photo & Video', 'Entertainment', 'Education', 'Productivity', 'Games', 'Games', 'Navigation', 'Games', 'Entertainment', 'Medical', 'Travel', 'Entertainment', 'Games', 'Education', 'Sports', 'Productivity', 'Productivity', 'Games', 'Productivity', 'Reference', 'Games', 'Health & Fitness', 'Food & Drink', 'Photo & Video', 'Photo & Video', 'Entertainment', 'Photo & Video', 'Sports', 'Health & Fitness', 'Photo & Video', 'Games', 'Entertainment', 'Productivity', 'Games', 'Sports', 'Food & Drink', 'Health & Fitness', 'Games', 'Shopping', 'Food & Drink', 'Games', 'Entertainment', 'Health & Fitness', 'Games', 'Education', 'Games', 'Games', 'Games', 'Music', 'Shopping', 'Games', 'Education', 'Productivity', 'Productivity', 'Photo & Video', 'Entertainment', 'Photo & Video', 'Games', 'Productivity', 'Medical', 'Utilities', 'Games', 'Games', 'Games', 'Shopping', 'Games', 'Finance', 'Games', 'Games', 'Games', 'Games', 'Navigation', 'Games', 'Games', 'Games', 'Games', 'Games', 'Photo & Video', 'Education', 'Entertainment', 'Games', 'Games', 'Medical', 'Health & Fitness', 'Entertainment', 'Games', 'Games', 'Shopping', 'Games', 'Photo & Video', 'Games', 'Games', 'Games', 'Entertainment', 'Health & Fitness', 'Health & Fitness', 'Games', 'Photo & Video', 'Shopping', 'Sports', 'Education', 'Games', 'Games', 'Education', 'Education', 'Finance', 'Games', 'Games', 'Entertainment', 'Games', 'Games', 'Games', 'Shopping', 'Photo & Video', 'Games', 'Games', 'Games', 'Games', 'Food & Drink', 'Education', 'Games', 'Sports', 'Games', 'Photo & Video', 'Games', 'Games', 'Games', 'Games', 'Photo & Video', 'Games', 'Productivity', 'Games', 'Games', 'Games', 'Games', 'Education', 'Weather', 'Games', 'Lifestyle', 'Education', 'Education', 'Games', 'Games', 'Reference', 'Games', 'Entertainment', 'Games', 'Games', 'Education', 'Weather', 'Catalogs', 'Photo & Video', 'Entertainment', 'Photo & Video', 'Games', 'Games', 'Games', 'Games', 'Photo & Video', 'Education', 'Lifestyle', 'Photo & Video', 'Games', 'Games', 'Games', 'Education', 'Health & Fitness', 'Lifestyle', 'Games', 'Entertainment', 'Photo & Video', 'Photo & Video', 'Education', 'Games', 'Entertainment', 'Education', 'Games', 'Games', 'Business', 'Games', 'Games', 'Games', 'Games', 'Games', 'Productivity', 'Games', 'Entertainment', 'Health & Fitness', 'Games', 'Photo & Video', 'Games', 'Games', 'News', 'Games', 'Games', 'Weather', 'Games', 'Utilities', 'Education', 'Education', 'Games', 'Sports', 'Games', 'Games', 'Games', 'Games', 'Music', 'Games', 'Games', 'Games', 'Games', 'Games', 'Games', 'Reference', 'Games', 'Games', 'Photo & Video', 'Games', 'Games', 'Health & Fitness', 'Games', 'Education', 'Entertainment', 'Games', 'Games', 'Education', 'Health & Fitness', 'Health & Fitness', 'Finance', 'Health & Fitness', 'Games', 'Shopping', 'Games', 'Education', 'Games', 'Games', 'Games', 'Games', 'Games', 'Reference', 'Social Networking', 'Games', 'Games', 'Photo & Video', 'Education', 'Entertainment', 'Entertainment', 'Games', 'Productivity', 'Music', 'Entertainment', 'Games', 'Games', 'Education', 'Social Networking', 'Games', 'Health & Fitness', 'Music', 'Music', 'Education', 'Navigation', 'Book', 'Games', 'Productivity', 'Games', 'Games', 'Photo & Video', 'Finance', 'Games', 'Games', 'Games', 'News', 'Games', 'Games', 'Education', 'Lifestyle', 'Photo & Video', 'Lifestyle', 'Games', 'Games', 'Social Networking', 'Games', 'Photo & Video', 'Book', 'Education', 'Weather', 'Weather', 'Finance', 'Games', 'Games', 'Health & Fitness', 'Entertainment', 'Travel', 'Photo & Video', 'Games', 'Games', 'Social Networking', 'Travel', 'Games', 'Games', 'Games', 'Education', 'Games', 'Games', 'Health & Fitness', 'Sports', 'Photo & Video', 'Lifestyle', 'Health & Fitness', 'Games', 'Games', 'Productivity', 'Health & Fitness', 'Games', 'Games', 'Games', 'Productivity', 'Productivity', 'Games', 'Games', 'Games', 'Games', 'Games', 'Games', 'Health & Fitness', 'Health & Fitness', 'Games', 'Games', 'Games', 'Games', 'Games', 'Sports', 'Games', 'Entertainment', 'News', 'Games', 'Games', 'Photo & Video', 'Games', 'Education', 'Shopping', 'Productivity', 'Education', 'News', 'Games', 'Entertainment', 'Games', 'Travel', 'Education', 'Entertainment', 'Games', 'Games', 'Utilities', 'Games', 'Games', 'Games', 'Games', 'Photo & Video', 'Education', 'Games', 'Games', 'Lifestyle', 'Games', 'Health & Fitness', 'Travel', 'Shopping', 'Utilities', 'Games', 'Photo & Video', 'Games', 'Utilities', 'Games', 'Photo & Video', 'Games', 'Photo & Video', 'Food & Drink', 'Shopping', 'Entertainment', 'Book', 'Music', 'Music', 'Games', 'Utilities', 'Games', 'Photo & Video', 'Social Networking', 'Games', 'Games', 'Productivity', 'Reference', 'Games', 'Games', 'Lifestyle', 'Food & Drink', 'Games', 'Entertainment', 'Lifestyle', 'Games', 'Games', 'Games', 'Utilities', 'Education', 'Photo & Video', 'Entertainment', 'Navigation', 'Games', 'Business', 'Entertainment', 'Photo & Video', 'Games', 'Education', 'Photo & Video', 'Sports', 'Games', 'Health & Fitness', 'Photo & Video', 'Education', 'Games', 'Games', 'Games', 'Games', 'Entertainment', 'Games', 'Games', 'Games', 'Games', 'Education', 'Entertainment', 'Lifestyle', 'Utilities', 'Games', 'Health & Fitness', 'Games', 'Games', 'Social Networking', 'Games', 'Utilities', 'Health & Fitness', 'Photo & Video', 'Games', 'Games', 'Games', 'Photo & Video', 'Photo & Video', 'Games', 'Education', 'Games', 'Photo & Video', 'Education', 'Games', 'Education', 'Entertainment', 'Shopping', 'Education', 'Games', 'Photo & Video', 'Games', 'Utilities', 'Food & Drink', 'Music', 'Games', 'Games', 'Games', 'Games', 'Education', 'Finance', 'Finance', 'Music', 'Photo & Video', 'Entertainment', 'Photo & Video', 'Games', 'Games', 'Games', 'Medical', 'Games', 'Games', 'Games', 'Productivity', 'Games', 'Social Networking', 'Health & Fitness', 'Games', 'Utilities', 'Games', 'Games', 'Education', 'Music', 'Games', 'Games', 'Games', 'Games', 'Health & Fitness', 'Games', 'Games', 'Games', 'Productivity', 'Games', 'Games', 'Education', 'Games', 'Games', 'Music', 'Games', 'Games', 'Book', 'Social Networking', 'Sports', 'Sports', 'Games', 'Finance', 'Games', 'Education', 'Education', 'Games', 'Games', 'Games', 'Lifestyle', 'Education', 'Entertainment', 'Utilities', 'Games', 'Games', 'Productivity', 'Education', 'Games', 'Games', 'Education', 'Games', 'Games', 'Social Networking', 'Catalogs', 'Food & Drink', 'Games', 'Health & Fitness', 'Games', 'Games', 'Games', 'Games', 'Book', 'Games', 'Games', 'Games', 'Games', 'Shopping', 'Health & Fitness', 'Games', 'Photo & Video', 'Education', 'Games', 'Shopping', 'Shopping', 'Entertainment', 'Games', 'Entertainment', 'Games', 'Games', 'Photo & Video', 'Sports', 'Games', 'Games', 'Games', 'Games', 'Book', 'Education', 'Entertainment', 'Photo & Video', 'Entertainment', 'Games', 'Games', 'Education', 'Games', 'Entertainment', 'Games', 'Entertainment', 'Social Networking', 'Education', 'Entertainment', 'Education', 'Games', 'Education', 'Games', 'Games', 'Entertainment', 'Games', 'Games', 'Productivity', 'Games', 'Food & Drink', 'Entertainment', 'Games', 'Photo & Video', 'Games', 'Entertainment', 'Education', 'Games', 'Education', 'Education', 'Shopping', 'Business', 'Productivity', 'Games', 'Productivity', 'Weather', 'Games', 'Games', 'Education', 'Education', 'Entertainment', 'Photo & Video', 'Games', 'Entertainment', 'Entertainment', 'Lifestyle', 'Weather', 'Weather', 'Utilities', 'Utilities', 'Music', 'Utilities', 'Utilities', 'Utilities', 'Utilities', 'Productivity', 'Weather', 'Weather', 'Music', 'Food & Drink', 'Photo & Video', 'Education', 'Utilities', 'Games', 'Education', 'Games', 'Utilities', 'Games', 'Games', 'Games', 'Games', 'Games', 'Games', 'Productivity', 'Games', 'Photo & Video', 'Health & Fitness', 'Games', 'Games', 'Games', 'Sports', 'Entertainment', 'Entertainment', 'Games', 'Games', 'Games', 'Travel', 'Lifestyle', 'Photo & Video', 'Entertainment', 'Book', 'Games', 'Games', 'Lifestyle', 'Games', 'Games', 'Games', 'Games', 'Photo & Video', 'Games', 'News', 'Games', 'Photo & Video', 'Games', 'Travel', 'Games', 'Productivity', 'Games', 'Games', 'Games', 'Games', 'Education', 'Productivity', 'Productivity', 'Photo & Video', 'Games', 'Travel', 'Productivity', 'Games', 'Games', 'Games', 'Games', 'Photo & Video', 'Photo & Video', 'Health & Fitness', 'Games', 'Games', 'Games', 'Education', 'Health & Fitness', 'Education', 'Games', 'Photo & Video', 'Lifestyle', 'Games', 'Lifestyle', 'Games', 'Finance', 'Games', 'Education', 'Social Networking', 'Games', 'Music', 'Games', 'Games', 'Games', 'Games', 'Games', 'Weather', 'Utilities', 'Social Networking', 'News', 'Games', 'Productivity', 'Games', 'Games', 'Productivity', 'Education', 'Games', 'Games', 'Games', 'Music', 'Games', 'Education', 'Lifestyle', 'Education', 'Finance', 'Productivity', 'Education', 'Education', 'Utilities', 'Education', 'Games', 'Games', 'Social Networking', 'Photo & Video', 'Games', 'Navigation', 'Book', 'Utilities', 'Games', 'Education', 'Games', 'Photo & Video', 'Games', 'Reference', 'Productivity', 'Productivity', 'Lifestyle', 'Entertainment', 'Games', 'Games', 'Education', 'Games', 'Education', 'Games', 'Games', 'Education', 'Games', 'Sports', 'Games', 'Education', 'Games', 'Games', 'Food & Drink', 'Games', 'Games', 'Games', 'Games', 'Games', 'Education', 'Games', 'Utilities', 'Games', 'Games', 'Utilities', 'Education', 'Games', 'Photo & Video', 'Medical', 'Navigation', 'Utilities', 'Education', 'Games', 'Utilities', 'Games', 'Productivity', 'Weather', 'Travel', 'Games', 'Games', 'Games', 'Education', 'Games', 'Photo & Video', 'Social Networking', 'Utilities', 'Lifestyle', 'Games', 'Entertainment', 'Games', 'Education', 'Games', 'Reference', 'Education', 'Utilities', 'Games', 'Utilities', 'Games', 'Games', 'Productivity', 'Games', 'Games', 'Games', 'Games', 'Games', 'Photo & Video', 'Games', 'Games', 'Utilities', 'Games', 'Music', 'Photo & Video', 'Music', 'Games', 'Social Networking', 'Reference', 'Shopping', 'Games', 'Games', 'Games', 'Social Networking', 'Games', 'Games', 'Games', 'Education', 'Games', 'Entertainment', 'Games', 'Games', 'Games', 'Games', 'Entertainment', 'Health & Fitness', 'Health & Fitness', 'Shopping', 'Games', 'Productivity', 'Productivity', 'Education', 'Photo & Video', 'Games', 'Games', 'Travel', 'Photo & Video', 'Photo & Video', 'Games', 'Games', 'Games', 'Games', 'Entertainment', 'Games', 'Games', 'Games', 'Photo & Video', 'Productivity', 'Games', 'Games', 'Weather', 'Games', 'Games', 'Games', 'Games', 'Games', 'Music', 'Productivity', 'Games', 'Social Networking', 'Games', 'Games', 'Games', 'Games', 'Travel', 'Entertainment', 'Games', 'Book', 'Photo & Video', 'Games', 'Games', 'Games', 'Music', 'Education', 'Games', 'Games', 'Games', 'Photo & Video', 'Games', 'Games', 'Games', 'Games', 'Social Networking', 'Games', 'Navigation', 'Social Networking', 'Photo & Video', 'Games', 'Photo & Video', 'Entertainment', 'Games', 'Shopping', 'Education', 'Games', 'Games', 'Productivity', 'Health & Fitness', 'Productivity', 'Games', 'Food & Drink', 'Games', 'Social Networking', 'Games', 'Games', 'Utilities', 'Games', 'Games', 'Games', 'Games', 'Games', 'Games', 'Games', 'Games', 'News', 'Games', 'Utilities', 'Games', 'Entertainment', 'Photo & Video', 'Games', 'Education', 'Games', 'Games', 'Education', 'Games', 'News', 'Games', 'Games', 'Education', 'Utilities', 'Productivity', 'Lifestyle', 'Education', 'Games', 'Education', 'Utilities', 'Education', 'Education', 'Education', 'Games', 'Entertainment', 'Sports', 'Music', 'Photo & Video', 'Book', 'Games', 'Games', 'Entertainment', 'Games', 'Games', 'Shopping', 'Games', 'Photo & Video', 'Games', 'News', 'Productivity', 'Games', 'Photo & Video', 'Entertainment', 'Sports', 'Games', 'Games', 'Games', 'Utilities', 'Games', 'Games', 'Photo & Video', 'Games', 'Photo & Video', 'Games', 'Games', 'Education', 'Games', 'Games', 'Games', 'Health & Fitness', 'Games', 'Games', 'Games', 'Education', 'Games', 'Finance', 'Games', 'Games', 'Games', 'Games', 'Entertainment', 'Games', 'Photo & Video', 'Utilities', 'Entertainment', 'Games', 'Photo & Video', 'Games', 'Games', 'Games', 'Games', 'Social Networking', 'Entertainment', 'Games', 'Entertainment', 'Health & Fitness', 'Games', 'Games', 'Reference', 'Photo & Video', 'Utilities', 'Games', 'Games', 'Games', 'Games', 'Games', 'Games', 'Games', 'Games', 'Games', 'Photo & Video', 'Entertainment', 'Games', 'Games', 'Entertainment', 'Games', 'Health & Fitness', 'Music', 'Games', 'Games', 'Games', 'Education', 'Photo & Video', 'Music', 'Music', 'Finance', 'Games', 'Photo & Video', 'Games', 'Travel', 'Health & Fitness', 'Education', 'Education', 'Games', 'News', 'Games', 'Education', 'Games', 'Education', 'Utilities', 'Games', 'Business', 'Education', 'Utilities', 'Games', 'Games', 'Games', 'Games', 'Games', 'Games', 'Games', 'Games', 'Weather', 'Games', 'Utilities', 'Education', 'Games', 'Games', 'Games', 'Photo & Video', 'Games', 'Games', 'Utilities', 'Education', 'Health & Fitness', 'Health & Fitness', 'Food & Drink', 'Games', 'Finance', 'Games', 'Games', 'Games', 'Games', 'Games', 'Shopping', 'Sports', 'Social Networking', 'Productivity', 'Education', 'Games', 'Education', 'Education', 'Photo & Video', 'Games', 'Games', 'Photo & Video', 'Games', 'Utilities', 'Utilities', 'Games', 'Utilities', 'Photo & Video', 'Games', 'Games', 'Photo & Video', 'Education', 'Utilities', 'Education', 'Entertainment', 'Games', 'Social Networking', 'Games', 'Games', 'Games', 'Utilities', 'Health & Fitness', 'Games', 'Games', 'Utilities', 'Education', 'Health & Fitness', 'Games', 'Games', 'Entertainment', 'Games', 'Entertainment', 'Games', 'Games', 'Games', 'Games', 'Utilities', 'Food & Drink', 'Games', 'Games', 'Travel', 'Games', 'Photo & Video', 'Games', 'Games', 'Games', 'Travel', 'Games', 'Games', 'Games', 'Business', 'Games', 'Productivity', 'Games', 'Games', 'Games', 'Games', 'Games', 'Games', 'Photo & Video', 'Games', 'Photo & Video', 'Shopping', 'Games', 'Book', 'Education', 'Social Networking', 'Photo & Video', 'Education', 'Education', 'Games', 'Photo & Video', 'Games', 'Games', 'Education', 'Education', 'Games', 'Games', 'Games', 'Games', 'Education', 'Utilities', 'Entertainment', 'Entertainment', 'Book', 'Games', 'Games', 'Photo & Video', 'Productivity', 'Productivity', 'Games', 'Games', 'Music', 'Shopping', 'Games', 'Games', 'Productivity', 'Games', 'Entertainment', 'Games', 'Games', 'Health & Fitness', 'Games', 'Games', 'Entertainment', 'Shopping', 'Entertainment', 'Games', 'Entertainment', 'Games', 'Games', 'Education', 'Shopping', 'Entertainment', 'Productivity', 'Games', 'Games', 'Food & Drink', 'Productivity', 'Games', 'Games', 'Games', 'Travel', 'Photo & Video', 'Games', 'Music', 'Games', 'Social Networking', 'Shopping', 'Games', 'Games', 'Games', 'Finance', 'Games', 'Education', 'Music', 'Games', 'Games', 'Book', 'Games', 'Games', 'Photo & Video', 'Health & Fitness', 'Games', 'Games', 'Games', 'Games', 'Games', 'Games', 'Utilities', 'Productivity', 'Games', 'Education', 'Utilities', 'Games', 'Photo & Video', 'Education', 'Music', 'Games', 'Utilities', 'Entertainment', 'Health & Fitness', 'Games', 'Shopping', 'Games', 'Finance', 'Photo & Video', 'Utilities', 'Games', 'Shopping', 'Catalogs', 'Utilities', 'Productivity', 'Weather', 'Games', 'Utilities', 'Education', 'Games', 'Games', 'Games', 'Games', 'Finance', 'Social Networking', 'Finance', 'Games', 'Entertainment', 'Games', 'Games', 'Games', 'Games', 'Games', 'Education', 'Education', 'Games', 'Entertainment', 'Games', 'Book', 'Productivity', 'Games', 'Education', 'Games', 'Medical', 'Games', 'Games', 'Games', 'Games', 'Entertainment', 'Education', 'Games', 'Photo & Video', 'Games', 'Food & Drink', 'Entertainment', 'Games', 'Games', 'Photo & Video', 'Games', 'Games', 'Productivity', 'Utilities', 'Games', 'Education', 'Games', 'Games', 'Games', 'Games', 'Photo & Video', 'Games', 'Medical', 'Games', 'Book', 'Games', 'Photo & Video', 'Shopping', 'Book', 'Music', 'Social Networking', 'Education', 'Music', 'Photo & Video', 'Games', 'Weather', 'Education', 'Games', 'Games', 'Shopping', 'Games', 'Games', 'Games', 'Entertainment', 'Entertainment', 'Health & Fitness', 'Education', 'Games', 'Games', 'Education', 'Games', 'Games', 'Games', 'Games', 'Games', 'Photo & Video', 'Photo & Video', 'Games', 'Sports', 'Games', 'Games', 'Games', 'Games', 'Photo & Video', 'Games', 'Games', 'Business', 'Lifestyle', 'Games', 'Games', 'Lifestyle', 'Shopping', 'Games', 'Games', 'Entertainment', 'Games', 'Music', 'Games', 'Education', 'Games', 'Games', 'Games', 'Games', 'Games', 'Games', 'Games', 'Games', 'Games', 'Finance', 'Utilities', 'Games', 'Education', 'Games', 'Entertainment', 'Games', 'Games', 'Games', 'Games', 'Book', 'Games', 'Games', 'Games', 'Photo & Video', 'Entertainment', 'Games', 'Shopping', 'Book', 'Games', 'Productivity', 'Education', 'Games', 'Weather', 'Games', 'Games', 'Health & Fitness', 'Games', 'Sports', 'Games', 'Games', 'Photo & Video', 'Games', 'Productivity', 'Games', 'Education', 'Education', 'Entertainment', 'Games', 'Utilities', 'Games', 'Games', 'Games', 'Photo & Video', 'Games', 'Photo & Video', 'Games', 'Games', 'Health & Fitness', 'Games', 'Games', 'Games', 'Games', 'Entertainment', 'Games', 'Games', 'Games', 'Utilities', 'Shopping', 'Entertainment', 'Games', 'Entertainment', 'Games', 'Games', 'Finance', 'Games', 'Music', 'Games', 'Lifestyle', 'Business', 'Games', 'Social Networking', 'Games', 'Photo & Video', 'Games', 'Games', 'Games', 'Games', 'Entertainment', 'Games', 'Games', 'Games', 'Entertainment', 'Games', 'Games', 'Lifestyle', 'Games', 'Weather', 'Health & Fitness', 'Games', 'Games', 'Games', 'Games', 'Games', 'Games', 'Games', 'Games', 'Education', 'Games', 'Finance', 'Games', 'Games', 'Games', 'Education', 'Music', 'Games', 'Games', 'Games', 'Photo & Video', 'Entertainment', 'Utilities', 'Games', 'Games', 'Games', 'Entertainment', 'Games', 'Games', 'Education', 'Travel', 'Games', 'Games', 'Utilities', 'Business', 'Shopping', 'Health & Fitness', 'Education', 'Games', 'Games', 'Games', 'Games', 'Games', 'Lifestyle', 'Games', 'Business', 'Entertainment', 'Entertainment', 'Games', 'Games', 'Games', 'Games', 'Shopping', 'Health & Fitness', 'Photo & Video', 'Games', 'Photo & Video', 'Games', 'Utilities', 'Games', 'Health & Fitness', 'Games', 'Games', 'Sports', 'Games', 'Games', 'Games', 'Games', 'Games', 'Games', 'Entertainment', 'Games', 'Games', 'Games', 'Games', 'Games', 'Games', 'Social Networking', 'Utilities', 'Games', 'Photo & Video', 'Shopping', 'Games', 'Games', 'Games', 'Productivity', 'Games', 'Entertainment', 'Photo & Video', 'News', 'Games', 'Education', 'Education', 'Health & Fitness', 'Education', 'Games', 'Games', 'Photo & Video', 'Games', 'Games', 'Games', 'Games', 'Photo & Video', 'Games', 'Games', 'Games', 'Entertainment', 'Photo & Video', 'Games', 'Photo & Video', 'Games', 'Photo & Video', 'Lifestyle', 'Productivity', 'Games', 'Music', 'Games', 'Games', 'Games', 'Photo & Video', 'Entertainment', 'Games', 'Games', 'Health & Fitness', 'Games', 'Music', 'Games', 'Games', 'Utilities', 'Productivity', 'Education', 'Productivity', 'News', 'Photo & Video', 'Games', 'Games', 'Games', 'Games', 'Games', 'Games', 'Games', 'Photo & Video', 'Games', 'Games', 'Games', 'Entertainment', 'Games', 'Finance', 'Games', 'Productivity', 'Games', 'Games', 'Games', 'Entertainment', 'Catalogs', 'Games', 'Games', 'Games', 'Games', 'Games', 'Games', 'Health & Fitness', 'Weather', 'Games', 'Games', 'Games', 'Productivity', 'Games', 'Entertainment', 'Games', 'Games', 'Games', 'Travel', 'Entertainment', 'Social Networking', 'Games', 'Games', 'Games', 'Games', 'Health & Fitness', 'Games', 'Utilities', 'Lifestyle', 'Games', 'Education', 'Games', 'Entertainment', 'Lifestyle', 'Games', 'Entertainment', 'Games', 'Entertainment', 'Games', 'Games', 'Games', 'Games', 'Games', 'Games', 'Games', 'Games', 'Games', 'Games', 'Games', 'Games', 'Games', 'Games', 'Games', 'Music', 'Games', 'Education', 'Games', 'Weather', 'Games', 'Book', 'Games', 'Games', 'Games', 'Photo & Video', 'Productivity', 'Games', 'Games', 'Photo & Video', 'Games', 'Games', 'Games', 'Games', 'Games', 'Games', 'Games', 'Games', 'Games', 'Entertainment', 'Games', 'Finance', 'Productivity', 'Games', 'Games', 'Games', 'Games', 'Games', 'Business', 'Games', 'Music', 'News', 'Games', 'Sports', 'Games', 'Games', 'Games', 'Education', 'Health & Fitness', 'Games', 'Games', 'Games', 'Games', 'Games', 'Health & Fitness', 'Photo & Video', 'Utilities', 'Social Networking', 'Music', 'Games', 'Shopping', 'Games', 'Music', 'Games', 'Productivity', 'Social Networking', 'Games', 'Games', 'Games', 'Shopping', 'Catalogs', 'Games', 'Games', 'Games', 'Games', 'Education', 'Photo & Video', 'Games', 'Games', 'Utilities', 'Games', 'Games', 'Games', 'Games', 'Games', 'Games', 'Productivity', 'Photo & Video', 'Games', 'Games', 'Games', 'Games', 'Games', 'Games', 'Games', 'Games', 'Games', 'Games', 'Games', 'Games', 'Medical', 'Games', 'Games', 'Games', 'Games', 'Entertainment', 'Games', 'Games', 'Games', 'Games', 'Music', 'Games', 'Music', 'Utilities', 'Games', 'Games', 'Games', 'Music', 'Games', 'Games', 'Education', 'Games', 'Entertainment', 'Games', 'Education', 'Games', 'Games', 'Games', 'Games', 'Games', 'Education', 'Games', 'Games', 'Utilities', 'Productivity', 'Games', 'Photo & Video', 'Games', 'Education', 'Games', 'Games', 'Games', 'Games', 'Social Networking', 'Games', 'Games', 'Music', 'Games', 'Lifestyle', 'Photo & Video', 'Shopping', 'Games', 'Games', 'Education', 'Games', 'Games', 'Health & Fitness', 'Games', 'Games', 'Games', 'Productivity', 'Games', 'Games', 'Games', 'Photo & Video', 'Photo & Video', 'Games', 'Games', 'Book', 'Games', 'Games', 'Sports', 'Games', 'Games', 'Entertainment', 'Games', 'Games', 'Games', 'Games', 'Games', 'Education', 'Games', 'Entertainment', 'Utilities', 'Music', 'Games', 'Food & Drink', 'Games', 'Music', 'Health & Fitness', 'Games', 'Book', 'Games', 'Utilities', 'Games', 'Games', 'Games', 'Games', 'Games', 'Entertainment', 'Lifestyle', 'Games', 'Food & Drink', 'Games', 'Entertainment', 'Utilities', 'Social Networking', 'Games', 'Games', 'Games', 'Music', 'Lifestyle', 'Business', 'Games', 'Games', 'Productivity', 'Social Networking', 'Games', 'Games', 'Utilities', 'Games', 'Utilities', 'Games', 'Education', 'Photo & Video', 'Games', 'Games', 'Games', 'Games', 'Games', 'Games', 'Reference', 'Games', 'Games', 'Games', 'Games', 'Food & Drink', 'Games', 'Games', 'Games', 'Games', 'Games', 'Games', 'Health & Fitness', 'Games', 'Games', 'Photo & Video', 'Games', 'Games', 'Games', 'Games', 'Games', 'Games', 'Business', 'Games', 'Games', 'Games', 'Games', 'Games', 'Finance', 'Finance', 'Games', 'Games', 'Games', 'Games', 'Games', 'Navigation', 'Games', 'Photo & Video', 'Games', 'Games', 'Games', 'Finance', 'Sports', 'Games', 'Games', 'Photo & Video', 'Productivity', 'Games', 'Games', 'Games', 'Games', 'Games', 'Games', 'Education', 'Games', 'Games', 'Games', 'Health & Fitness', 'Games', 'Navigation', 'Games', 'Games', 'Social Networking', 'Games', 'Games', 'Education', 'Games', 'Photo & Video', 'Games', 'Shopping', 'Weather', 'Health & Fitness', 'Games', 'Lifestyle', 'Music', 'Games', 'Games', 'Games', 'Games', 'Games', 'Education', 'Education', 'Entertainment', 'Photo & Video', 'Games', 'Games', 'Games', 'Education', 'Finance', 'Games', 'Games', 'Social Networking', 'Games', 'Games', 'Games', 'Games', 'Games', 'Utilities', 'Games', 'Travel', 'Games', 'Games', 'Entertainment', 'Games', 'Games', 'Productivity', 'Health & Fitness', 'Music', 'Productivity', 'Business', 'Games', 'Utilities', 'Entertainment', 'Games', 'Games', 'Games', 'Photo & Video', 'Games', 'Photo & Video', 'Games', 'Social Networking', 'Games', 'News', 'Photo & Video', 'Games', 'Social Networking', 'Entertainment', 'Games', 'Photo & Video', 'Utilities', 'Games', 'Health & Fitness', 'Education', 'Social Networking', 'Photo & Video', 'Games', 'Games', 'Games', 'Games', 'Games', 'Photo & Video', 'Games', 'Games', 'Games', 'Games', 'Finance', 'Lifestyle', 'Games', 'Entertainment', 'Entertainment', 'Games', 'Entertainment', 'Games', 'Productivity', 'Games', 'Games', 'Reference', 'Health & Fitness', 'Games', 'Games', 'Games', 'Photo & Video', 'Lifestyle', 'Social Networking', 'Education', 'Lifestyle', 'Education', 'Education', 'Games', 'Games', 'Photo & Video', 'Games', 'Games', 'Utilities', 'Finance', 'Travel', 'Games', 'Games', 'Games', 'Entertainment', 'Games', 'Games', 'Games', 'Games', 'Games', 'Games', 'News', 'Games', 'Games', 'Social Networking', 'Photo & Video', 'Games', 'Games', 'Games', 'Games', 'Entertainment', 'Games', 'Games', 'Productivity', 'Games', 'Book', 'Games', 'Games', 'Social Networking', 'Entertainment', 'Games', 'Games', 'Medical', 'Games', 'Games', 'Shopping', 'Games', 'Health & Fitness', 'Games', 'Games', 'Games', 'Music', 'Games', 'Games', 'Games', 'Book', 'Games', 'Games', 'Games', 'Health & Fitness', 'Games', 'Games', 'Games', 'Education', 'Utilities', 'Games', 'Games', 'Games', 'Education', 'Education', 'Games', 'Games', 'Games', 'Games', 'Entertainment', 'Food & Drink', 'Games', 'Games', 'Education', 'Games', 'Games', 'Games', 'Games', 'Games', 'Games', 'Education', 'Shopping', 'Games', 'Lifestyle', 'Games', 'Games', 'Games', 'Games', 'Games', 'Games', 'Games', 'Games', 'Games', 'Games', 'Games', 'Games', 'Reference', 'Utilities', 'Book', 'Games', 'Games', 'Games', 'Entertainment', 'Catalogs', 'Education', 'Games', 'Business', 'Education', 'Games', 'Games', 'Games', 'Sports', 'Health & Fitness', 'Games', 'Entertainment', 'Games', 'Games', 'Games', 'Games', 'Games', 'Games', 'Games', 'Games', 'Games', 'Games', 'Games', 'Games', 'Games', 'Entertainment', 'Games', 'Games', 'Games', 'Finance', 'Games', 'Games', 'Productivity', 'Games', 'Games', 'Games', 'Games', 'Games', 'Games', 'Games', 'Games', 'Photo & Video', 'Education', 'Entertainment', 'Games', 'Social Networking', 'Lifestyle', 'Games', 'Games', 'Games', 'Games', 'Games', 'Games', 'Utilities', 'Games', 'Games', 'Games', 'Games', 'Games', 'Games', 'Social Networking', 'Games', 'Music', 'Games', 'Utilities', 'Games', 'Book', 'Book', 'Games', 'Education', 'Games', 'Games', 'Entertainment', 'Games', 'Games', 'Games', 'Health & Fitness', 'Games', 'Entertainment', 'Finance', 'Music', 'Games', 'Business', 'Games', 'Games', 'Entertainment', 'Games', 'Games', 'Games', 'Games', 'Games', 'Finance', 'Photo & Video', 'Games', 'Entertainment', 'Games', 'Games', 'Games', 'Games', 'Photo & Video', 'Photo & Video', 'Education', 'Education', 'Games', 'Games', 'Games', 'Games', 'Games', 'Photo & Video', 'Reference', 'News', 'Education', 'Education', 'Education', 'Games', 'Games', 'Games', 'Games', 'Games', 'Games', 'Productivity', 'Lifestyle', 'Book', 'Education', 'Games', 'Games', 'Games', 'Finance', 'Games', 'Games', 'Games', 'Games', 'Games', 'Book', 'Music', 'Games', 'Games', 'Games', 'Games', 'Lifestyle', 'Games', 'Reference', 'Shopping', 'Social Networking', 'Games', 'Games', 'Entertainment', 'Games', 'Games', 'Games', 'Games', 'Photo & Video', 'Photo & Video', 'Games', 'Health & Fitness', 'Utilities', 'Education', 'Entertainment', 'Games', 'Games', 'Games', 'Games', 'Games', 'Games', 'Sports', 'Medical', 'Games', 'Games', 'Games', 'Catalogs', 'Weather', 'Games', 'Games', 'Games', 'Entertainment', 'Games', 'Games', 'Games', 'Photo & Video', 'Games', 'Games', 'Games', 'Utilities', 'Games', 'Games', 'Games', 'Games', 'Games', 'Travel', 'Games', 'Games', 'Games', 'Games', 'Games', 'Social Networking', 'Games', 'Games', 'Sports', 'Games', 'Games', 'Productivity', 'Photo & Video', 'Games', 'Games', 'Education', 'Games', 'Games', 'Games', 'Games', 'Games', 'Food & Drink', 'Games', 'Games', 'Games', 'Education', 'Games', 'Games', 'Entertainment', 'Games', 'Education', 'Education', 'Education', 'Games', 'Games', 'Games', 'Games', 'Games', 'Education', 'Games', 'News', 'Games', 'Photo & Video', 'Games', 'Games', 'Games', 'Games', 'Games', 'Education', 'Book', 'Games', 'Games', 'Games', 'Games', 'Games', 'Photo & Video', 'Entertainment', 'Entertainment', 'Entertainment', 'Games', 'Health & Fitness', 'Navigation', 'Health & Fitness', 'Finance', 'Productivity', 'Games', 'Education', 'Entertainment', 'Finance', 'Photo & Video', 'Games', 'Lifestyle', 'Games', 'Games', 'Games', 'Games', 'Games', 'Lifestyle', 'Food & Drink', 'Entertainment', 'Education', 'Games', 'Education', 'Games', 'Games', 'Utilities', 'Games', 'Productivity', 'Entertainment', 'Games', 'Games', 'Games', 'Games', 'Games', 'Photo & Video', 'Games', 'Games', 'Games', 'Games', 'Games', 'Entertainment', 'Games', 'Games', 'Games', 'Games', 'Games', 'Games', 'Entertainment', 'Social Networking', 'Social Networking', 'Entertainment', 'Games', 'Games', 'Games', 'Utilities', 'Games', 'Games', 'Entertainment', 'Games', 'Book', 'Productivity', 'Productivity', 'Games', 'Education', 'Social Networking', 'Games', 'Games', 'Games', 'Entertainment', 'Games', 'Games', 'Games', 'Games', 'Games', 'Games', 'Weather', 'Finance', 'Games', 'Games', 'Games', 'Games', 'Games', 'Games', 'Games', 'Entertainment', 'Games', 'Games', 'Productivity', 'Games', 'Games', 'Games', 'Games', 'Games', 'Games', 'Entertainment', 'Games', 'Games', 'Games', 'Social Networking', 'Games', 'Games', 'Games', 'Games', 'Games', 'Utilities', 'Games', 'Games', 'Games', 'Utilities', 'Games', 'Games', 'Games', 'Entertainment', 'Games', 'Games', 'Games', 'Games', 'Games', 'Games', 'Games', 'Games', 'Games', 'Games', 'Games', 'Education', 'Games', 'Games', 'Games', 'Games', 'Games', 'Games', 'Photo & Video', 'Education', 'Education', 'News', 'Games', 'Photo & Video', 'Lifestyle', 'Music', 'Games', 'Photo & Video', 'Photo & Video', 'Photo & Video', 'Games', 'Games', 'Health & Fitness', 'Games', 'Business', 'Productivity', 'Food & Drink', 'Games', 'Games', 'Games', 'Book', 'Games', 'Games', 'Education', 'Productivity', 'Games', 'Games', 'Lifestyle', 'Games', 'Games', 'Photo & Video', 'Games', 'Games', 'Games', 'Music', 'Games', 'Navigation', 'Entertainment', 'Music', 'Book', 'Games', 'Reference', 'Games', 'Education', 'Games', 'Utilities', 'Games', 'Games', 'Games', 'Productivity', 'Lifestyle', 'Games', 'Games', 'Games', 'Music', 'Education', 'Games', 'Games', 'Education', 'Games', 'Utilities', 'Lifestyle', 'Games', 'Photo & Video', 'Games', 'Games', 'Games', 'Games', 'Games', 'Lifestyle', 'Photo & Video', 'Entertainment', 'Games', 'Productivity', 'Games', 'Games', 'Games', 'Entertainment', 'Games', 'News', 'Education', 'Games', 'Games', 'Games', 'Business', 'Entertainment', 'Games', 'Games', 'Lifestyle', 'Games', 'Games', 'Games', 'Games', 'Games', 'Music', 'Music', 'Games', 'Games', 'Games', 'Games', 'Games', 'Games', 'Health & Fitness', 'Games', 'Games', 'Education', 'Games', 'Games', 'Games', 'Games', 'Music', 'Weather', 'Health & Fitness', 'Education', 'Photo & Video', 'Games', 'Games', 'Games', 'Games', 'Games', 'Games', 'Games', 'Games', 'Utilities', 'Games', 'Games', 'Education', 'Book', 'Education', 'Games', 'Games', 'Games', 'Games', 'Games', 'Games', 'Games', 'Photo & Video', 'Games', 'Games', 'Games', 'Social Networking', 'Finance', 'Games', 'Education', 'Games', 'Games', 'Games', 'Games', 'Games', 'Games', 'Games', 'Games', 'Games', 'Shopping', 'Games', 'Games', 'Games', 'Games', 'Education', 'Games', 'Travel', 'Games', 'Games', 'Games', 'Games', 'Games', 'Games', 'Games', 'Games', 'Lifestyle', 'Entertainment', 'Lifestyle', 'Health & Fitness', 'Games', 'Games', 'Games', 'Games', 'Games', 'Travel', 'Entertainment', 'Games', 'Games', 'Games', 'Productivity', 'Games', 'Games', 'Games', 'Games', 'Games', 'Games', 'Sports', 'Games', 'Entertainment', 'Weather', 'Utilities', 'Games', 'Music', 'Games', 'Games', 'Entertainment', 'Games', 'Games', 'Shopping', 'Education', 'Games', 'Games', 'Games', 'Photo & Video', 'Games', 'Book', 'Games', 'Games', 'Games', 'Games', 'Photo & Video', 'Entertainment', 'Games', 'Games', 'Entertainment', 'Games', 'Games', 'Games', 'Games', 'Games', 'Games', 'Games', 'Games', 'Education', 'Entertainment', 'Education', 'Education', 'Games', 'Games', 'Travel', 'Photo & Video', 'Games', 'Games', 'Education', 'Education', 'Games', 'Games', 'Games', 'Games', 'Games', 'Games', 'Games', 'Games', 'Games', 'Games', 'Games', 'Book', 'Education', 'Games', 'Photo & Video', 'Education', 'Games', 'Sports', 'Games', 'Health & Fitness', 'Productivity', 'Games', 'Entertainment', 'Photo & Video', 'Entertainment', 'Health & Fitness', 'Games', 'Games', 'News', 'Games', 'Games', 'Entertainment', 'Games', 'Sports', 'Entertainment', 'Games', 'Entertainment', 'Games', 'Health & Fitness', 'Games', 'Games', 'Games', 'Education', 'Games', 'Games', 'Games', 'Games', 'Games', 'Education', 'Games', 'Social Networking', 'Business', 'Education', 'Utilities', 'Games', 'Photo & Video', 'Games', 'Games', 'Games', 'Sports', 'Lifestyle', 'Sports', 'Entertainment', 'Games', 'Games', 'Games', 'Games', 'Games', 'Education', 'Education', 'Games', 'Games', 'Weather', 'Games', 'Games', 'Utilities', 'Games', 'Games', 'Games', 'Utilities', 'Games', 'Education', 'Games', 'Games', 'Games', 'Education', 'Games', 'Games', 'Games', 'Games', 'Games', 'Lifestyle', 'Games', 'Games', 'Games', 'Games', 'Games', 'Games', 'Social Networking', 'Education', 'Education', 'Games', 'Education', 'Games', 'Games', 'Education', 'Games', 'Games', 'Education', 'Games', 'Games', 'Productivity', 'Sports', 'Music', 'Entertainment', 'Games', 'Photo & Video', 'Education', 'Social Networking', 'Games', 'Games', 'Games', 'Book', 'Games', 'Medical', 'Games', 'Book', 'Games', 'Lifestyle', 'Games', 'Utilities', 'Reference', 'Games', 'Games', 'Games', 'Games', 'Games', 'Games', 'Photo & Video', 'Games', 'Games', 'Games', 'Music', 'Games', 'Utilities', 'Games', 'Navigation', 'Games', 'Games', 'Entertainment', 'Lifestyle', 'Games', 'Entertainment', 'Games', 'Social Networking', 'Finance', 'Entertainment', 'Entertainment', 'Shopping', 'Games', 'Games', 'Music', 'Games', 'Food & Drink', 'Health & Fitness', 'Games', 'Sports', 'Games', 'Games', 'Weather', 'Games', 'Health & Fitness', 'Games', 'Games', 'Games', 'Games', 'Games', 'Games', 'Games', 'Games', 'Games', 'Finance', 'Games', 'Entertainment', 'Games', 'Games', 'Education', 'Games', 'Games', 'Games', 'Games', 'Games', 'Games', 'Games', 'Education', 'Games', 'Games', 'Games', 'Games', 'Entertainment', 'Shopping', 'Games', 'Games', 'Games', 'Games', 'Games', 'Games', 'Games', 'Games', 'Education', 'Games', 'Games', 'Music', 'Games', 'Food & Drink', 'Games', 'Food & Drink', 'Entertainment', 'Photo & Video', 'Photo & Video', 'Games', 'Games', 'Games', 'Games', 'Games', 'Entertainment', 'Games', 'Games', 'Games', 'Games', 'Entertainment', 'Photo & Video', 'Games', 'Finance', 'Games', 'Games', 'Games', 'Games', 'Finance', 'Games', 'Games', 'Games', 'Weather', 'Games', 'Games', 'Games', 'Games', 'Games', 'Games', 'Games', 'Games', 'Games', 'Entertainment', 'Entertainment', 'Games', 'Games', 'Entertainment', 'Productivity', 'Photo & Video', 'Music', 'Games', 'Weather', 'Games', 'Games', 'Games', 'Games', 'Games', 'Food & Drink', 'Sports', 'Games', 'Games', 'Games', 'Sports', 'Book', 'Games', 'Games', 'Entertainment', 'Games', 'Games', 'Music', 'Games', 'Games', 'Games', 'Games', 'Games', 'Games', 'Entertainment', 'Entertainment', 'Games', 'Social Networking', 'Games', 'Games', 'Games', 'Games', 'Photo & Video', 'Games', 'Games', 'Games', 'Games', 'Games', 'Entertainment', 'Games', 'Games', 'Photo & Video', 'Entertainment', 'Book', 'Book', 'Games', 'Games', 'Games', 'Games', 'Photo & Video', 'Games', 'Games', 'Games', 'Education', 'Games', 'Games', 'Health & Fitness', 'Games', 'Games', 'Games', 'Games', 'Games', 'Games', 'Games', 'Games', 'Games', 'Lifestyle', 'Games', 'Entertainment', 'Games', 'Games', 'Games', 'Games', 'Games', 'Games', 'Games', 'Games', 'Games', 'Games', 'Health & Fitness', 'Sports', 'Games', 'Games', 'Games', 'Games', 'Games', 'Entertainment', 'Book', 'Book', 'Games', 'Medical', 'Games', 'Entertainment', 'Games', 'Education', 'News', 'Games', 'Utilities', 'Games', 'Games', 'Games', 'Games', 'Photo & Video', 'Games', 'Book', 'Education', 'Games', 'Book', 'Games', 'Health & Fitness', 'Travel', 'Education', 'Games', 'Games', 'Games', 'Games', 'Photo & Video', 'Education', 'Games', 'Entertainment', 'Games', 'Photo & Video', 'Games', 'Games', 'Games', 'Lifestyle', 'Games', 'Games', 'Music', 'Lifestyle', 'Games', 'Games', 'Games', 'Games', 'Book', 'Games', 'Entertainment', 'Games', 'Games', 'Games', 'Book', 'Social Networking', 'Games', 'Games', 'Games', 'Games', 'Games', 'Games', 'Games', 'Games', 'Health & Fitness', 'Games', 'Games', 'Games', 'Games', 'Games', 'Productivity', 'Entertainment', 'Social Networking', 'Games', 'Games', 'Games', 'Utilities', 'Entertainment', 'Games', 'Games', 'Games', 'Games', 'Entertainment', 'Games', 'Entertainment', 'Games', 'Games', 'Book', 'Entertainment', 'Games', 'Book', 'Games', 'Entertainment', 'Book', 'Productivity', 'Games', 'Education', 'Games', 'Photo & Video', 'Photo & Video', 'Games', 'Games', 'Games', 'Entertainment', 'Games', 'Games', 'Games', 'Games', 'Medical', 'Entertainment', 'Games', 'Health & Fitness', 'Social Networking', 'Games', 'Entertainment', 'Games', 'Entertainment', 'Book', 'Games', 'Games', 'Games', 'Games', 'Games', 'Games', 'Photo & Video', 'Games', 'Games', 'Lifestyle', 'Games', 'Social Networking', 'Book', 'Games', 'Games', 'Games', 'Games', 'Games', 'Games', 'Games', 'Social Networking', 'Games', 'Games', 'Travel', 'Games', 'Productivity', 'Games', 'Games', 'Games', 'Games', 'Games', 'Games', 'Games', 'Games', 'Games', 'Games', 'Entertainment', 'Games', 'Utilities', 'Entertainment', 'Music', 'Entertainment', 'Games', 'Games', 'Games', 'Games', 'Games', 'Lifestyle', 'Education', 'Lifestyle', 'Games', 'Lifestyle', 'Games', 'Games', 'Entertainment', 'Finance', 'Social Networking', 'Games', 'Games', 'Games', 'Games', 'Education', 'Games', 'Games', 'Education', 'Book', 'Entertainment', 'Entertainment', 'Lifestyle', 'Games', 'Games', 'Games', 'Book', 'Games', 'Utilities', 'Utilities', 'Games', 'Games', 'Games', 'Games', 'Games', 'Games', 'Sports', 'Games', 'Games', 'Games', 'Book', 'Games', 'Games', 'Games', 'Music', 'Games', 'Games', 'Photo & Video', 'Games', 'Games', 'Games', 'Education', 'Social Networking', 'Social Networking', 'Games', 'Games', 'Games', 'Games', 'Games', 'Productivity', 'Games', 'Games', 'Games', 'Games', 'Games', 'Games', 'Photo & Video', 'Games', 'Games', 'Entertainment', 'Education', 'Games', 'Games', 'Games', 'Navigation', 'Photo & Video', 'Education', 'Games', 'Games', 'Games', 'Entertainment', 'Games', 'Games', 'Games', 'Education', 'Games', 'Utilities', 'Games', 'Entertainment', 'Games', 'Games', 'Games', 'Health & Fitness', 'Entertainment', 'Games', 'Games', 'Entertainment', 'Education', 'Games', 'Sports', 'Games', 'Lifestyle', 'Games', 'Games', 'Shopping', 'Games', 'Finance', 'Games', 'Health & Fitness', 'Games', 'Games', 'Games', 'Games', 'Catalogs', 'Games', 'Games', 'Games', 'Games', 'Games', 'Games', 'Health & Fitness', 'Games', 'Education', 'Games', 'Games', 'Games', 'Education', 'Games', 'Games', 'Games', 'Games', 'Social Networking', 'Social Networking', 'Games', 'Finance', 'Finance', 'Finance', 'Health & Fitness', 'Games', 'Music', 'Games', 'Games', 'Games', 'Games', 'Games', 'Games', 'Games', 'Games', 'Games', 'Games', 'Social Networking', 'Utilities', 'Navigation', 'Utilities', 'Games', 'Games', 'Games', 'Games', 'Games', 'Games', 'Games', 'Book', 'Entertainment', 'Games', 'Lifestyle', 'Photo & Video', 'Games', 'Entertainment', 'Games', 'Games', 'Games', 'Games', 'Games', 'Navigation', 'Games', 'Games', 'Games', 'Games', 'Entertainment', 'Education', 'Games', 'Games', 'Entertainment', 'Games', 'Games', 'Games', 'Games', 'Entertainment', 'Games', 'Photo & Video', 'Games', 'Games', 'Games', 'Social Networking', 'Games', 'Games', 'Entertainment', 'Games', 'Games', 'Games', 'Games', 'Games', 'Games', 'Games', 'Games', 'Games', 'Entertainment', 'News', 'Games', 'Games', 'Games', 'Games', 'Education', 'Games', 'Book', 'Photo & Video', 'Games', 'Games', 'Education', 'Music', 'Games', 'Games', 'Games', 'Social Networking', 'Book', 'Games', 'Games', 'Games', 'Games', 'Games', 'Games', 'Games', 'Games', 'Games', 'Games', 'Games', 'Games', 'Games', 'Games', 'Games', 'News', 'Games', 'Games', 'Lifestyle', 'Social Networking', 'Education', 'Utilities', 'Music', 'Games', 'Games', 'Entertainment', 'Games', 'Games', 'Games', 'Entertainment', 'Games', 'Games', 'Games', 'Games', 'Finance', 'Games', 'Photo & Video', 'Social Networking', 'Games', 'Games', 'Games', 'Games', 'Games', 'Games', 'Games', 'Food & Drink', 'Games', 'Games', 'Games', 'Education', 'Games', 'Photo & Video', 'Games', 'Games', 'Games', 'Entertainment', 'Games', 'Games', 'Games', 'Games', 'Food & Drink', 'Games', 'Games', 'Games', 'Games', 'Book', 'Games', 'Games', 'Games', 'Games', 'Education', 'Games', 'Photo & Video', 'Games', 'Games', 'Finance', 'Games', 'Games', 'Shopping', 'Games', 'Games', 'Games', 'Games', 'Business', 'Entertainment', 'Games', 'Games', 'Photo & Video', 'Games', 'Games', 'Sports', 'Games', 'Social Networking', 'Games', 'Book', 'Games', 'Games', 'Games', 'Games', 'Games', 'Entertainment', 'Games', 'Games', 'Education', 'Games', 'Games', 'Book', 'Lifestyle', 'Games', 'Games', 'Games', 'Education', 'Education', 'Games', 'Games', 'Games', 'Games', 'Games', 'Entertainment', 'Games', 'Games', 'Travel', 'Games', 'Games', 'Games', 'Entertainment', 'Utilities', 'Games', 'Health & Fitness', 'Games', 'Games', 'Games', 'Games', 'Games', 'Games', 'Entertainment', 'Health & Fitness', 'Games', 'Games', 'Games', 'Entertainment', 'Games', 'Education', 'Education', 'Games', 'Utilities', 'Games', 'Games', 'Games', 'Games', 'Education', 'Health & Fitness', 'Entertainment', 'Entertainment', 'Entertainment', 'Games', 'Entertainment', 'Social Networking', 'Games', 'Education', 'Games', 'Games', 'Games', 'Games', 'Entertainment', 'Games', 'Games', 'Games', 'Games', 'Games', 'Games', 'Games', 'Entertainment', 'Games', 'Entertainment', 'Games', 'Music', 'Games', 'Education', 'Games', 'Games', 'Entertainment', 'Games', 'Games', 'Games', 'Games', 'Games', 'Games', 'Games', 'Education', 'Games', 'Games', 'Games', 'Games', 'Games', 'Games', 'Social Networking', 'Games', 'Games', 'Games', 'Games', 'Entertainment', 'Games', 'Games', 'Games', 'Games', 'Games', 'Games', 'Games', 'Games', 'Games', 'Games', 'Games', 'Food & Drink', 'Book', 'Games', 'Games', 'Games', 'Photo & Video', 'Education', 'Music', 'Games', 'Games', 'Games', 'Productivity', 'Games', 'Games', 'Games', 'Utilities', 'Games', 'Games', 'Productivity', 'Games', 'Games', 'Book', 'Entertainment', 'Games', 'Games', 'Entertainment', 'Games', 'Games', 'Games', 'Utilities', 'Entertainment', 'Games', 'Games', 'News', 'Entertainment', 'Finance', 'Games', 'Productivity', 'Games', 'Games', 'Games', 'Games', 'Games', 'Entertainment', 'Games', 'Games', 'Games', 'Games', 'Games', 'Games', 'Games', 'Games', 'Games', 'Games', 'Utilities', 'Games', 'Utilities', 'Utilities', 'Utilities', 'Games', 'Games', 'Games', 'Lifestyle', 'Games', 'Games', 'Games', 'Games', 'Games', 'Games', 'Games', 'Games', 'Photo & Video', 'Games', 'Games', 'Games', 'Games', 'Games', 'Entertainment', 'Education', 'Book', 'Games', 'Games', 'Games', 'Games', 'Games', 'Games', 'Games', 'Entertainment', 'Entertainment', 'Business', 'Reference', 'Games', 'Games', 'Photo & Video', 'Games', 'Utilities', 'Games', 'Games', 'Games', 'Games', 'Games', 'Games', 'Games', 'Games', 'Games', 'Utilities', 'Games', 'Photo & Video', 'Games', 'Utilities', 'Entertainment', 'Games', 'Games', 'Photo & Video', 'Entertainment', 'Games', 'Entertainment', 'Games', 'Book', 'Book', 'Games', 'Games', 'Games', 'Games', 'Games', 'Games', 'Social Networking', 'Reference', 'Reference', 'Social Networking', 'Games', 'Health & Fitness', 'Entertainment', 'Games', 'Social Networking', 'Games', 'Finance', 'Health & Fitness', 'Games', 'Games', 'Games', 'Games', 'Entertainment', 'Sports', 'Games', 'Games', 'Games', 'Social Networking', 'Business', 'Games', 'Games', 'Lifestyle', 'Sports', 'Games', 'Games', 'Games', 'Games', 'Games', 'Education', 'Lifestyle', 'Games', 'Lifestyle', 'Games', 'Games', 'Book', 'Entertainment', 'Education', 'Games', 'Games', 'Games', 'Games', 'Games', 'Lifestyle', 'Games', 'Games', 'Games', 'Education', 'Food & Drink', 'Games', 'Games', 'Games', 'Utilities', 'Games', 'Social Networking', 'Games', 'Lifestyle', 'Book', 'Games', 'Games', 'Games', 'Games', 'Games', 'Games', 'Games', 'Games', 'Games', 'Games', 'Education', 'Productivity', 'Book', 'Games', 'Games', 'Reference', 'Book', 'Book', 'Lifestyle', 'Shopping', 'Games', 'Games', 'Games', 'Games', 'Sports', 'Games', 'Games', 'Lifestyle', 'Education', 'Games', 'Entertainment', 'Games', 'Games', 'Games', 'Utilities', 'Games', 'Games', 'Health & Fitness', 'Games', 'Games', 'Games', 'Games', 'Games', 'Utilities', 'Games', 'Games', 'Photo & Video', 'Games', 'Games', 'Games', 'Games', 'Utilities', 'Games', 'Games', 'Games', 'Games', 'Games', 'Games', 'Games', 'Productivity', 'Sports', 'Games', 'Games', 'Social Networking', 'Games', 'Games', 'News', 'Games', 'Photo & Video', 'Games', 'Games', 'Games', 'Games', 'Games', 'Games', 'Games', 'Games', 'Photo & Video', 'Games', 'Games', 'Games', 'Games', 'Utilities', 'Games', 'Games', 'Games', 'Games', 'Entertainment', 'Games', 'Games', 'Shopping', 'Games', 'Shopping', 'Games', 'Social Networking', 'Social Networking', 'Education', 'Games', 'Games', 'Games', 'Games', 'Games', 'Games', 'Games', 'Education', 'Games', 'Games', 'Games', 'Games', 'Games', 'Games', 'Entertainment', 'Games', 'Sports', 'Games', 'Games', 'Games', 'Reference', 'Games', 'Games', 'Social Networking', 'Games', 'Entertainment', 'Social Networking', 'Games', 'Social Networking', 'Games', 'Games', 'Entertainment', 'Games', 'Utilities', 'Education', 'Games', 'Games', 'Games', 'Games', 'Social Networking', 'Games', 'Entertainment', 'Games', 'Games', 'Games', 'Entertainment', 'Sports', 'Games', 'Games', 'Games', 'Games', 'Games', 'Games', 'Games', 'Games', 'Games', 'Games', 'Games', 'Entertainment', 'Games', 'Games', 'Games', 'Entertainment', 'Games', 'Games', 'Games', 'Games', 'Games', 'Entertainment', 'Social Networking', 'Games', 'Games', 'Games', 'Photo & Video', 'Games', 'Education', 'Music', 'Games', 'Games', 'Entertainment', 'Games', 'Games', 'Games', 'Games', 'Games', 'Games', 'Games', 'Games', 'Games', 'Finance', 'Games', 'Games', 'Games', 'Games', 'Games', 'Entertainment', 'Games', 'Social Networking', 'Games', 'Games', 'Games', 'Games', 'Games', 'Games', 'Games', 'Finance', 'Music', 'Entertainment', 'Education', 'Entertainment', 'Photo & Video', 'Games', 'Games', 'Games', 'Games', 'Games', 'Games', 'Games', 'Games', 'Entertainment', 'Food & Drink', 'Games', 'Shopping', 'Games', 'Games', 'Entertainment', 'Games', 'Games', 'Games', 'Games', 'Games', 'Games', 'Games', 'Travel', 'Games', 'Games', 'Health & Fitness', 'Games', 'Games', 'Games', 'Book', 'Games', 'News', 'Finance', 'Games', 'Games', 'Games', 'Games', 'Education', 'Games', 'Lifestyle', 'Entertainment', 'Games', 'Games', 'Games', 'Games', 'Entertainment', 'Games', 'Games', 'Games', 'Games', 'Games', 'Utilities', 'Games', 'Games', 'Entertainment', 'Games', 'Entertainment', 'Food & Drink', 'Photo & Video', 'Education', 'Games', 'Games', 'Book', 'Games', 'Weather', 'Social Networking', 'Games', 'Entertainment', 'Productivity', 'Games', 'Games', 'Music', 'Games', 'Games', 'Business', 'Entertainment', 'Games', 'Games', 'Entertainment', 'Games', 'Games', 'Games', 'Utilities', 'Games', 'Games', 'Games', 'Games', 'Entertainment', 'Games', 'Games', 'Games', 'Games', 'Games', 'Entertainment', 'Games', 'Shopping', 'Games', 'Games', 'Games', 'Book', 'Book', 'Book', 'Book', 'Games', 'Games', 'Games', 'Games', 'Games', 'Games', 'Entertainment', 'Entertainment', 'Games', 'Weather', 'Games', 'Games', 'Games', 'Entertainment', 'Games', 'Games', 'Book', 'News', 'Games', 'Games', 'Games', 'Games', 'Games', 'Games', 'Games', 'Games', 'Games', 'Games', 'Games', 'Games', 'Games', 'Education', 'Games', 'Games', 'Games', 'Games', 'Games', 'Productivity', 'Games', 'Entertainment', 'Games', 'Games', 'Games', 'Games', 'Games', 'Games', 'Games', 'Games', 'Games', 'Games', 'Book', 'Games', 'Games', 'Games', 'Entertainment', 'Games', 'Entertainment', 'Productivity', 'Games', 'Games', 'Entertainment', 'Games', 'Games', 'Games', 'Games', 'Lifestyle', 'Education', 'Games', 'Education', 'Games', 'Games', 'Games', 'Games', 'Games', 'Games', 'Games', 'Lifestyle', 'Entertainment', 'Music', 'Games', 'Games', 'Games', 'Food & Drink', 'Games', 'Games', 'Reference', 'Games', 'Photo & Video', 'Games', 'Games', 'Games', 'Medical', 'Entertainment', 'Utilities', 'Games', 'Education', 'Food & Drink', 'Reference', 'Games', 'Entertainment', 'Lifestyle', 'Entertainment', 'Games', 'Education', 'Entertainment', 'Social Networking', 'Games', 'Games', 'Games', 'Education', 'Entertainment', 'Games', 'Entertainment', 'Games', 'Productivity', 'Games', 'Education', 'Games', 'Games', 'Games', 'Games', 'Utilities', 'Education', 'Entertainment', 'Games', 'Lifestyle', 'Lifestyle', 'Book', 'Games', 'Social Networking', 'Navigation', 'Games', 'Games', 'Games', 'Finance', 'Music', 'Games', 'Games', 'Games', 'Entertainment', 'Games', 'Games', 'Finance', 'Games', 'Games', 'Games', 'Entertainment', 'Games', 'Games', 'Games', 'Utilities', 'Entertainment', 'Games', 'Games', 'Social Networking', 'Business', 'Games', 'Entertainment', 'Games', 'Games', 'Games', 'Entertainment', 'Games', 'Photo & Video', 'Games', 'Education', 'Games', 'Games', 'Education', 'Games', 'Games', 'Games', 'Games', 'Lifestyle', 'Games', 'Games', 'Games', 'Photo & Video', 'Games', 'Games', 'Games', 'Games', 'Education', 'Games', 'Reference', 'Navigation', 'Games', 'Reference', 'Games', 'Travel', 'Games', 'Education', 'Education', 'Games', 'Games', 'Lifestyle', 'Photo & Video', 'Games', 'Utilities', 'Games', 'Games', 'Games', 'Games', 'Games', 'Photo & Video', 'Games', 'Games', 'Games', 'Games', 'Games', 'Games', 'Entertainment', 'Games', 'Education', 'Games', 'Games', 'Games', 'Games', 'Games', 'Catalogs', 'Games', 'Social Networking', 'Utilities', 'Games', 'Games', 'Games', 'Games', 'Lifestyle', 'Games', 'Games', 'Games', 'Games', 'Games', 'Games', 'Utilities', 'Games', 'Lifestyle', 'Games', 'Entertainment', 'Finance', 'Finance', 'Games', 'Games', 'Entertainment', 'Medical', 'Utilities', 'Entertainment', 'Music', 'Games', 'Games', 'Games', 'Games', 'Games', 'Games', 'Games', 'Games', 'Entertainment', 'Utilities', 'Games', 'Games', 'Games', 'Games', 'Games', 'Games', 'Games', 'Games', 'Games', 'Health & Fitness', 'Utilities', 'Games', 'Entertainment', 'Games', 'Entertainment', 'Games', 'Games', 'Utilities', 'Games', 'Utilities', 'Games', 'Games', 'Games', 'Games', 'Games', 'Education', 'Education', 'News', 'Games', 'Games', 'Games', 'Games', 'Games', 'Games', 'Games', 'Games', 'Games', 'Games', 'Games', 'Games', 'Education', 'Games', 'Games', 'Games', 'Entertainment', 'Games', 'Education', 'Games', 'Games', 'Games', 'Games', 'Games', 'Games', 'Games', 'Games', 'Games', 'Entertainment', 'Games', 'Games', 'Lifestyle', 'Games', 'Games', 'Entertainment', 'Games', 'Photo & Video', 'Games', 'Photo & Video', 'Education', 'Games', 'Social Networking', 'Games', 'Games', 'Games', 'Entertainment', 'Games', 'Games', 'Photo & Video', 'Games', 'Games', 'Games', 'Games', 'Games', 'Games', 'Sports', 'Photo & Video', 'Games', 'Entertainment', 'Games', 'Games', 'Sports', 'Games', 'Games', 'Games', 'Games', 'Book', 'Games', 'Games', 'Games', 'Games', 'Games', 'Social Networking', 'Games', 'Games', 'Games', 'Games', 'Games', 'Games', 'Games', 'Games', 'Games', 'Education', 'Games', 'Education', 'Games', 'Entertainment', 'Games', 'Games', 'Games', 'Entertainment', 'Games', 'Education', 'Games', 'Games', 'Games', 'Games', 'Games', 'Entertainment', 'Games', 'Games', 'Utilities', 'Games', 'Games', 'Games', 'Entertainment', 'Games', 'Games', 'Games', 'Games', 'Lifestyle', 'Games', 'Music', 'Games', 'Games', 'Games', 'Games', 'Games', 'Games', 'Entertainment', 'Photo & Video', 'Entertainment', 'Games', 'Games', 'Games', 'Entertainment', 'Lifestyle', 'Entertainment', 'Games', 'Entertainment', 'Games', 'Games', 'Games', 'Sports', 'Entertainment', 'Games', 'Entertainment', 'Games', 'Education', 'Education', 'Games', 'Games', 'Games', 'Games', 'Games', 'Games', 'Music', 'Music', 'Games', 'Games', 'Games', 'Entertainment', 'Games', 'Games', 'Games', 'Games', 'Games', 'Games', 'Games', 'Education', 'Games', 'Photo & Video', 'Productivity', 'Games', 'Music', 'Games', 'Photo & Video', 'Games', 'Games', 'Health & Fitness', 'Games', 'News', 'Games', 'Health & Fitness', 'Games', 'Games', 'Games', 'Games', 'Games', 'Games', 'Games', 'Shopping', 'Games', 'Games', 'Social Networking', 'Games', 'Health & Fitness', 'Games', 'Games', 'Games', 'Games', 'Games', 'Games', 'Games', 'Entertainment', 'Games', 'Games', 'Entertainment', 'Music', 'Utilities', 'Travel', 'Games', 'Games', 'Games', 'Games', 'Games', 'Games', 'Utilities', 'Reference', 'Games', 'Navigation', 'Games', 'Shopping', 'Games', 'Sports', 'Travel', 'Games', 'Games', 'Food & Drink', 'Education', 'Games', 'Games', 'Games', 'Business', 'Games', 'Games', 'Games', 'Travel', 'Games', 'Games', 'Productivity', 'Games', 'Games', 'Games', 'Education', 'Education', 'Catalogs', 'Sports', 'Games', 'Games', 'Utilities', 'Games', 'Games', 'Photo & Video', 'Games', 'Games', 'Education', 'Games', 'Games', 'Education', 'Education', 'Entertainment', 'Reference', 'Games', 'News', 'Photo & Video', 'Utilities', 'Games', 'Games', 'Health & Fitness', 'Entertainment', 'Games', 'Games', 'Book', 'Games', 'Games', 'Entertainment', 'Games', 'Games', 'Reference', 'Reference', 'Games', 'Games', 'Games', 'Entertainment', 'Games', 'Games', 'Games', 'Games', 'Games', 'Photo & Video', 'Education', 'Games', 'Entertainment', 'Games', 'Games', 'Games', 'Games', 'Games', 'Games', 'Entertainment', 'Games', 'Games', 'Entertainment', 'Games', 'Games', 'Health & Fitness', 'Games', 'Games', 'Games', 'Entertainment', 'Games', 'Utilities', 'Games', 'Games', 'Games', 'Entertainment', 'Games', 'Games', 'Games', 'Games', 'Games', 'Games', 'Reference', 'Music', 'Utilities', 'Lifestyle', 'Games', 'Shopping', 'Entertainment', 'Games', 'Business', 'Games', 'Games', 'Games', 'Games', 'Games', 'Games', 'Entertainment', 'Games', 'Games', 'Games', 'Entertainment', 'Photo & Video', 'Games', 'Games', 'Games', 'Games', 'Photo & Video', 'Games', 'Games', 'Games', 'Games', 'Entertainment', 'Entertainment', 'Games', 'Games', 'Games', 'Entertainment', 'Games', 'Utilities', 'Games', 'Sports', 'Utilities', 'Games', 'Games', 'Games', 'Photo & Video', 'Games', 'Reference', 'Entertainment', 'Games', 'Games', 'Photo & Video', 'Games', 'Games', 'Games', 'Games', 'Sports', 'Games', 'Utilities', 'Games', 'Games', 'Games', 'Entertainment', 'Games', 'Games', 'Education', 'Sports', 'Lifestyle', 'Book', 'Book', 'Games', 'Book', 'Games', 'Lifestyle', 'Games', 'Games', 'Reference', 'Games', 'Games', 'Games', 'Games', 'Games', 'Entertainment', 'Games', 'Games', 'Photo & Video', 'Games', 'Book', 'Games', 'Entertainment', 'Games', 'Games', 'Games', 'Games', 'Games', 'Sports', 'Games', 'Games', 'Entertainment', 'Games', 'Games', 'Games', 'Photo & Video', 'Photo & Video', 'Lifestyle', 'Games', 'Games', 'Entertainment', 'Games', 'Games', 'Games', 'Games', 'Health & Fitness', 'Games', 'Education', 'Games', 'Games', 'Games', 'Utilities', 'Entertainment', 'Food & Drink', 'Games', 'Games', 'Education', 'Games', 'Games', 'Games', 'Sports', 'Entertainment', 'Games', 'Games', 'Entertainment', 'Games', 'Games', 'Games', 'Education', 'Productivity', 'Sports', 'Games', 'Games', 'Games', 'Games', 'Entertainment', 'Games', 'Games', 'Games', 'Games', 'Games', 'Games', 'Games', 'Games', 'Photo & Video', 'Games', 'Games', 'Games', 'Games', 'Games', 'Games', 'Entertainment', 'Games', 'Games', 'Games', 'Games', 'Utilities', 'Games', 'Games', 'Games', 'Games', 'Games', 'Games', 'Games', 'Utilities', 'Utilities', 'Games', 'Games', 'Entertainment', 'Games', 'Games', 'Games', 'Games', 'Games', 'Games', 'Games', 'Entertainment', 'Games', 'Games', 'Entertainment', 'Games', 'Games', 'Entertainment', 'Games', 'Games', 'Games', 'Games', 'Games', 'Games', 'Games', 'Lifestyle', 'Games', 'Utilities', 'Games', 'Games', 'Productivity', 'Games', 'Games', 'Photo & Video', 'Games', 'Games', 'Games', 'Games', 'Entertainment', 'Education', 'Games', 'Games', 'Games', 'Games', 'Games', 'Sports', 'Music', 'Games', 'Productivity', 'Games', 'Games', 'Productivity', 'Games', 'Games', 'Education', 'Games', 'Games', 'Games', 'Games', 'Sports', 'Sports', 'Entertainment', 'Games', 'Games', 'Games', 'Productivity', 'Games', 'Games', 'Entertainment', 'Social Networking', 'Travel', 'Education', 'Games', 'Games', 'Book', 'Games', 'Games', 'Games', 'Games', 'Games', 'Games', 'Games', 'Games', 'Games', 'Photo & Video', 'Games', 'Entertainment', 'Games', 'Education', 'Health & Fitness', 'Games', 'Games', 'Games', 'Games', 'Shopping', 'Book', 'Games', 'Book', 'Games', 'Games', 'Games', 'Entertainment', 'Social Networking', 'Games', 'Education', 'Games', 'Games', 'Games', 'Games', 'Entertainment', 'Games', 'Games', 'Games', 'News', 'Games', 'Utilities', 'Games', 'Lifestyle', 'Health & Fitness', 'Games', 'Games', 'Games', 'Games', 'Games', 'Entertainment', 'Games', 'Games', 'Games', 'Book', 'Utilities', 'Games', 'Games', 'Games', 'Games', 'Games', 'Entertainment', 'Games', 'Photo & Video', 'Games', 'Games', 'Book', 'Book', 'Games', 'Education', 'Games', 'Games', 'Games', 'Lifestyle', 'Games', 'Games', 'Games', 'Games', 'Games', 'Games', 'Education', 'Games', 'Education', 'Utilities', 'Education', 'Social Networking', 'Games', 'Games', 'Photo & Video', 'Games', 'Games', 'Games', 'Games', 'Reference', 'Finance', 'Games', 'Games', 'Education', 'Lifestyle', 'Entertainment', 'Games', 'Games', 'Games', 'Games', 'Games', 'Games', 'Education', 'Photo & Video', 'Games', 'Games', 'Health & Fitness', 'Book', 'Lifestyle', 'Games', 'Games', 'Sports', 'Games', 'Games', 'Games', 'Sports', 'Utilities', 'Games', 'Games', 'Games', 'Photo & Video', 'Games', 'Games', 'Games', 'Games', 'Education', 'Games', 'Games', 'Games', 'Games', 'Music', 'Entertainment', 'Games', 'Games', 'Games', 'Games', 'Games', 'Weather', 'Games', 'Games', 'Games', 'Games', 'Games', 'Entertainment', 'Lifestyle', 'Games', 'Games', 'Games', 'Education', 'Games', 'Games', 'Games', 'Games', 'Games', 'Shopping', 'Games', 'Games', 'Games', 'News', 'Games', 'Games', 'Entertainment', 'Utilities', 'Games', 'Games', 'Productivity', 'Games', 'Games', 'Utilities', 'Games', 'News', 'Games', 'Games', 'Sports', 'Games', 'Games', 'Games', 'Games', 'Games', 'Games', 'Utilities', 'Games', 'Games', 'Photo & Video', 'Games', 'Games', 'Lifestyle', 'Entertainment', 'Games', 'Education', 'Games', 'Health & Fitness', 'Games', 'Entertainment', 'Games', 'Games', 'Games', 'Games', 'Games', 'Lifestyle', 'Photo & Video', 'Social Networking', 'Entertainment', 'Entertainment', 'Education', 'Games', 'Games', 'Games', 'Photo & Video', 'Book', 'Games', 'Games', 'Games', 'Games', 'Games', 'Health & Fitness', 'Games', 'Games', 'Games', 'News', 'Education', 'Games', 'Games', 'Games', 'Games', 'Photo & Video', 'Games', 'Games', 'Games', 'Entertainment', 'Games', 'Games', 'Entertainment', 'Games', 'Games', 'Games', 'Games', 'News', 'Games', 'Reference', 'Utilities', 'Games', 'Sports', 'Education', 'Games', 'Entertainment', 'Social Networking', 'Entertainment', 'Games', 'Games', 'Games', 'Lifestyle', 'Games', 'Games', 'Games', 'Games', 'Games', 'Education', 'Games', 'Games', 'Games', 'Productivity', 'Games', 'Games', 'Games', 'Games', 'Games', 'Games', 'Entertainment', 'Lifestyle', 'Games', 'Games', 'Games', 'Games', 'Games', 'Photo & Video', 'Games', 'Games', 'Games', 'Book', 'Games', 'Games', 'Games', 'Games', 'Games', 'Games', 'Games', 'Entertainment', 'Games', 'Business', 'Games', 'Games', 'Games', 'Sports', 'Entertainment', 'Games', 'Health & Fitness', 'Games', 'Games', 'Games', 'Games', 'Utilities', 'Finance', 'Games', 'Entertainment', 'Games', 'Lifestyle', 'Food & Drink', 'Games', 'Games', 'Book', 'Games', 'Games', 'Games', 'Social Networking', 'Entertainment', 'Games', 'Games', 'Games', 'Games', 'Entertainment', 'Entertainment', 'Games', 'Games', 'Education', 'Photo & Video', 'Education', 'Navigation', 'Photo & Video', 'Games', 'Entertainment', 'Games', 'Games', 'Games', 'Games', 'Games', 'Entertainment', 'Games', 'Entertainment', 'Games', 'Social Networking', 'Games', 'Business', 'Utilities', 'Entertainment', 'Entertainment', 'Games', 'Entertainment', 'Games', 'Games', 'Games', 'Games', 'Games', 'Entertainment', 'Social Networking', 'Games', 'Games', 'Utilities', 'Games', 'Games', 'Games', 'Games', 'Games', 'Social Networking', 'Utilities', 'Games', 'Photo & Video', 'Games', 'Games', 'Games', 'Games', 'Games', 'Games', 'Games', 'Games', 'Games', 'Games', 'Games', 'Utilities', 'Games', 'Games']\n"
     ]
    }
   ],
   "source": [
    "# creating a function that generates frequency tables for any column we want in this data set.\n",
    "\n",
    "def extract(index):\n",
    "    column = []\n",
    "    for row in apps_data[1:]:\n",
    "        # Store the value from the column we want in a variable.\n",
    "        value = row[index]\n",
    "        # Append that value to the empty list we created outside the for loop.\n",
    "        column.append(value)\n",
    "    # Return the list containing the values of the column.\n",
    "    return column\n",
    "\n",
    "genres = extract(12)\n",
    "print(genres)"
   ]
  },
  {
   "cell_type": "code",
   "execution_count": 74,
   "metadata": {},
   "outputs": [
    {
     "name": "stdout",
     "output_type": "stream",
     "text": [
      "{'Games': 3862, 'Productivity': 178, 'Weather': 72, 'Shopping': 122, 'Reference': 64, 'Finance': 104, 'Music': 138, 'Utilities': 248, 'Travel': 81, 'Social Networking': 167, 'Sports': 114, 'Business': 57, 'Health & Fitness': 180, 'Entertainment': 535, 'Photo & Video': 349, 'Navigation': 46, 'Education': 453, 'Lifestyle': 144, 'Food & Drink': 63, 'News': 75, 'Book': 112, 'Medical': 23, 'Catalogs': 10}\n"
     ]
    }
   ],
   "source": [
    "# A function that generates a frequency table for a list.\n",
    "\n",
    "def freq_table(column):\n",
    "    frequency_table = {}\n",
    "    for value in column:\n",
    "        if value in frequency_table:\n",
    "            frequency_table[value] += 1\n",
    "        else:\n",
    "            frequency_table[value] = 1\n",
    "    return frequency_table\n",
    "\n",
    "genres_ft = freq_table(genres)\n",
    "print(genres_ft)"
   ]
  },
  {
   "cell_type": "code",
   "execution_count": 76,
   "metadata": {},
   "outputs": [
    {
     "name": "stdout",
     "output_type": "stream",
     "text": [
      "{'Games': 3862, 'Productivity': 178, 'Weather': 72, 'Shopping': 122, 'Reference': 64, 'Finance': 104, 'Music': 138, 'Utilities': 248, 'Travel': 81, 'Social Networking': 167, 'Sports': 114, 'Business': 57, 'Health & Fitness': 180, 'Entertainment': 535, 'Photo & Video': 349, 'Navigation': 46, 'Education': 453, 'Lifestyle': 144, 'Food & Drink': 63, 'News': 75, 'Book': 112, 'Medical': 23, 'Catalogs': 10}\n"
     ]
    }
   ],
   "source": [
    "# combining both steps into one for frequency table\n",
    "def freq_table(index):\n",
    "    frequency_table = {}\n",
    "    \n",
    "    for row in apps_data[1:]:\n",
    "        value = row[index]\n",
    "        if value in frequency_table:\n",
    "            frequency_table[value] += 1\n",
    "        else: \n",
    "            frequency_table[value] = 1     \n",
    "    return frequency_table\n",
    "\n",
    "genres_ft = freq_table(12)\n",
    "print(genres_ft)"
   ]
  },
  {
   "cell_type": "code",
   "execution_count": 78,
   "metadata": {},
   "outputs": [
    {
     "name": "stdout",
     "output_type": "stream",
     "text": [
      "{'Games': 3862, 'Productivity': 178, 'Weather': 72, 'Shopping': 122, 'Reference': 64, 'Finance': 104, 'Music': 138, 'Utilities': 248, 'Travel': 81, 'Social Networking': 167, 'Sports': 114, 'Business': 57, 'Health & Fitness': 180, 'Entertainment': 535, 'Photo & Video': 349, 'Navigation': 46, 'Education': 453, 'Lifestyle': 144, 'Food & Drink': 63, 'News': 75, 'Book': 112, 'Medical': 23, 'Catalogs': 10}\n"
     ]
    }
   ],
   "source": [
    "# changing the function for reusability\n",
    "def freq_table(data_set, index):\n",
    "    frequency_table = {}\n",
    "    \n",
    "    for row in data_set[1:]:\n",
    "        value = row[index]\n",
    "        if value in frequency_table:\n",
    "            frequency_table[value] += 1\n",
    "        else:\n",
    "            frequency_table[value] = 1\n",
    "            \n",
    "    return frequency_table\n",
    "\n",
    "genres_ft = freq_table(data_set=apps_data, index=12)\n",
    "print(genres_ft)"
   ]
  },
  {
   "cell_type": "code",
   "execution_count": 81,
   "metadata": {},
   "outputs": [
    {
     "name": "stdout",
     "output_type": "stream",
     "text": [
      "1.7262178685562626\n"
     ]
    }
   ],
   "source": [
    "# finding the mean of the list\n",
    "def extract(data_set, index):\n",
    "    column = []    \n",
    "    for row in data_set[1:]:\n",
    "        value = row[index]\n",
    "        column.append(value)    \n",
    "    return column\n",
    "\n",
    "def find_sum(a_list):\n",
    "    a_sum = 0\n",
    "    for element in a_list:\n",
    "        a_sum += float(element)\n",
    "    return a_sum\n",
    "\n",
    "def find_length(a_list):\n",
    "    length = 0\n",
    "    for element in a_list:\n",
    "        length += 1\n",
    "    return length\n",
    "\n",
    "def mean(data_set, index):\n",
    "    column = extract(data_set, index)\n",
    "    return find_sum(column) / find_length(column)\n",
    "\n",
    "avg_price = mean(apps_data, 5)\n",
    "print(avg_price)\n",
    "    "
   ]
  },
  {
   "cell_type": "code",
   "execution_count": 83,
   "metadata": {},
   "outputs": [
    {
     "name": "stdout",
     "output_type": "stream",
     "text": [
      "25\n",
      "5\n"
     ]
    }
   ],
   "source": [
    "# returning multiple variables\n",
    "def sum_and_difference(a, b):\n",
    "    a_sum = a + b\n",
    "    difference = a - b\n",
    "    return a_sum, difference\n",
    "sum_1, diff_1 = sum_and_difference(15, 10)\n",
    "print(sum_1)\n",
    "print(diff_1)\n"
   ]
  }
 ],
 "metadata": {
  "kernelspec": {
   "display_name": "Python 3",
   "language": "python",
   "name": "python3"
  },
  "language_info": {
   "codemirror_mode": {
    "name": "ipython",
    "version": 3
   },
   "file_extension": ".py",
   "mimetype": "text/x-python",
   "name": "python",
   "nbconvert_exporter": "python",
   "pygments_lexer": "ipython3",
   "version": "3.7.3"
  }
 },
 "nbformat": 4,
 "nbformat_minor": 2
}
